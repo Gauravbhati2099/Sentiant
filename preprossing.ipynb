{
 "cells": [
  {
   "cell_type": "code",
   "execution_count": 106,
   "id": "a9f64945",
   "metadata": {},
   "outputs": [],
   "source": [
    "import pandas as pd "
   ]
  },
  {
   "cell_type": "code",
   "execution_count": 107,
   "id": "fafd5f5d",
   "metadata": {},
   "outputs": [],
   "source": [
    "df = pd.read_csv('https://raw.githubusercontent.com/Himanshu-1703/reddit-sentiment-analysis/refs/heads/main/data/reddit.csv')"
   ]
  },
  {
   "cell_type": "code",
   "execution_count": 108,
   "id": "55a45e6c",
   "metadata": {},
   "outputs": [
    {
     "data": {
      "application/vnd.microsoft.datawrangler.viewer.v0+json": {
       "columns": [
        {
         "name": "index",
         "rawType": "int64",
         "type": "integer"
        },
        {
         "name": "clean_comment",
         "rawType": "object",
         "type": "string"
        },
        {
         "name": "category",
         "rawType": "int64",
         "type": "integer"
        }
       ],
       "ref": "6f5fd85c-c539-4fb9-bd70-e9489c87a1a0",
       "rows": [
        [
         "0",
         " family mormon have never tried explain them they still stare puzzled from time time like some kind strange creature nonetheless they have come admire for the patience calmness equanimity acceptance and compassion have developed all the things buddhism teaches ",
         "1"
        ],
        [
         "1",
         "buddhism has very much lot compatible with christianity especially considering that sin and suffering are almost the same thing suffering caused wanting things shouldn want going about getting things the wrong way christian this would mean wanting things that don coincide with god will and wanting things that coincide but without the aid jesus buddhism could also seen proof god all mighty will and omnipotence certainly christians are lucky have one such christ there side but what about everyone else well many christians believe god grace salvation and buddhism god way showing grace upon others would also help study the things jesus said and see how buddha has made similar claims such rich man getting into heaven joke basically advocating that should rid ourselves material possessions fact distinctly remembered jesus making someone cry because that someone asked what achieve salvation and jesus replied with live like buddhist very very roughly translated also point out that buddha rarely spoke anything about god theory personally because knew well enough leave that jesus and mohamed who came later just remember conflict difference opinion but education can fun involving and enlightening easier teach something than prove right like intelligent design ",
         "1"
        ],
        [
         "2",
         "seriously don say thing first all they won get its too complex explain normal people anyway and they are dogmatic then doesn matter what you say see mechante post and for any reason you decide later life move from buddhism and that doesn suit you identity though you still get keep all the wisdom then your family will treat you like you went through weird hippy phase for while there didncha and you never hear the end pro tip don put one these your wall jpg ",
         "-1"
        ],
        [
         "3",
         "what you have learned yours and only yours what you want teach different focus the goal not the wrapping paper buddhism can passed others without word about the buddha ",
         "0"
        ],
        [
         "4",
         "for your own benefit you may want read living buddha living christ thich nhat hanh you might find any subsequent discussions with your loved ones easier you are able articulate some the parallels that exist between buddhism and christianity don surprised they react negatively for having lost you treat them with compassion and deserved understanding although they may indeed display signs being hurt your new path properly sharing with them way that may alleviate their fear something they may perceive wrong the very least alien their beliefs may help allowing them the long run accept although not necessarily agree with your decision regardless where they end you have make your own way ",
         "1"
        ]
       ],
       "shape": {
        "columns": 2,
        "rows": 5
       }
      },
      "text/html": [
       "<div>\n",
       "<style scoped>\n",
       "    .dataframe tbody tr th:only-of-type {\n",
       "        vertical-align: middle;\n",
       "    }\n",
       "\n",
       "    .dataframe tbody tr th {\n",
       "        vertical-align: top;\n",
       "    }\n",
       "\n",
       "    .dataframe thead th {\n",
       "        text-align: right;\n",
       "    }\n",
       "</style>\n",
       "<table border=\"1\" class=\"dataframe\">\n",
       "  <thead>\n",
       "    <tr style=\"text-align: right;\">\n",
       "      <th></th>\n",
       "      <th>clean_comment</th>\n",
       "      <th>category</th>\n",
       "    </tr>\n",
       "  </thead>\n",
       "  <tbody>\n",
       "    <tr>\n",
       "      <th>0</th>\n",
       "      <td>family mormon have never tried explain them t...</td>\n",
       "      <td>1</td>\n",
       "    </tr>\n",
       "    <tr>\n",
       "      <th>1</th>\n",
       "      <td>buddhism has very much lot compatible with chr...</td>\n",
       "      <td>1</td>\n",
       "    </tr>\n",
       "    <tr>\n",
       "      <th>2</th>\n",
       "      <td>seriously don say thing first all they won get...</td>\n",
       "      <td>-1</td>\n",
       "    </tr>\n",
       "    <tr>\n",
       "      <th>3</th>\n",
       "      <td>what you have learned yours and only yours wha...</td>\n",
       "      <td>0</td>\n",
       "    </tr>\n",
       "    <tr>\n",
       "      <th>4</th>\n",
       "      <td>for your own benefit you may want read living ...</td>\n",
       "      <td>1</td>\n",
       "    </tr>\n",
       "  </tbody>\n",
       "</table>\n",
       "</div>"
      ],
      "text/plain": [
       "                                       clean_comment  category\n",
       "0   family mormon have never tried explain them t...         1\n",
       "1  buddhism has very much lot compatible with chr...         1\n",
       "2  seriously don say thing first all they won get...        -1\n",
       "3  what you have learned yours and only yours wha...         0\n",
       "4  for your own benefit you may want read living ...         1"
      ]
     },
     "execution_count": 108,
     "metadata": {},
     "output_type": "execute_result"
    }
   ],
   "source": [
    "df.head()"
   ]
  },
  {
   "cell_type": "code",
   "execution_count": 109,
   "id": "3306fbda",
   "metadata": {},
   "outputs": [
    {
     "data": {
      "text/plain": [
       "(37249, 2)"
      ]
     },
     "execution_count": 109,
     "metadata": {},
     "output_type": "execute_result"
    }
   ],
   "source": [
    "df.shape"
   ]
  },
  {
   "cell_type": "code",
   "execution_count": 110,
   "id": "2d40cb82",
   "metadata": {},
   "outputs": [
    {
     "data": {
      "text/plain": [
       "'this might sound insensitive but ias kids chandigarh have been pulling off this same shit and much worse for years now that the shoe the other foot maybe the girl dad and his peers will understand what everyone else goes through here just one example '"
      ]
     },
     "execution_count": 110,
     "metadata": {},
     "output_type": "execute_result"
    }
   ],
   "source": [
    "df.sample(1)['clean_comment'].values[0]"
   ]
  },
  {
   "cell_type": "code",
   "execution_count": 111,
   "id": "140d8a6f",
   "metadata": {},
   "outputs": [
    {
     "name": "stdout",
     "output_type": "stream",
     "text": [
      "<class 'pandas.core.frame.DataFrame'>\n",
      "RangeIndex: 37249 entries, 0 to 37248\n",
      "Data columns (total 2 columns):\n",
      " #   Column         Non-Null Count  Dtype \n",
      "---  ------         --------------  ----- \n",
      " 0   clean_comment  37149 non-null  object\n",
      " 1   category       37249 non-null  int64 \n",
      "dtypes: int64(1), object(1)\n",
      "memory usage: 582.1+ KB\n"
     ]
    }
   ],
   "source": [
    "df.info()"
   ]
  },
  {
   "cell_type": "code",
   "execution_count": 112,
   "id": "52e5e883",
   "metadata": {},
   "outputs": [
    {
     "data": {
      "application/vnd.microsoft.datawrangler.viewer.v0+json": {
       "columns": [
        {
         "name": "index",
         "rawType": "object",
         "type": "string"
        },
        {
         "name": "0",
         "rawType": "int64",
         "type": "integer"
        }
       ],
       "ref": "7db2ca26-93d3-4fee-8d07-c2328c13ae6e",
       "rows": [
        [
         "clean_comment",
         "100"
        ],
        [
         "category",
         "0"
        ]
       ],
       "shape": {
        "columns": 1,
        "rows": 2
       }
      },
      "text/plain": [
       "clean_comment    100\n",
       "category           0\n",
       "dtype: int64"
      ]
     },
     "execution_count": 112,
     "metadata": {},
     "output_type": "execute_result"
    }
   ],
   "source": [
    "df.isnull().sum()"
   ]
  },
  {
   "cell_type": "code",
   "execution_count": 113,
   "id": "aaa30200",
   "metadata": {},
   "outputs": [
    {
     "data": {
      "application/vnd.microsoft.datawrangler.viewer.v0+json": {
       "columns": [
        {
         "name": "index",
         "rawType": "int64",
         "type": "integer"
        },
        {
         "name": "clean_comment",
         "rawType": "object",
         "type": "unknown"
        },
        {
         "name": "category",
         "rawType": "int64",
         "type": "integer"
        }
       ],
       "ref": "7291d0dc-3fdd-4ef6-9aec-c72295c8de9d",
       "rows": [
        [
         "413",
         null,
         "0"
        ],
        [
         "605",
         null,
         "0"
        ],
        [
         "2422",
         null,
         "0"
        ],
        [
         "2877",
         null,
         "0"
        ],
        [
         "3307",
         null,
         "0"
        ],
        [
         "3420",
         null,
         "0"
        ],
        [
         "4292",
         null,
         "0"
        ],
        [
         "4400",
         null,
         "0"
        ],
        [
         "4462",
         null,
         "0"
        ],
        [
         "5127",
         null,
         "0"
        ],
        [
         "6248",
         null,
         "0"
        ],
        [
         "6825",
         null,
         "0"
        ],
        [
         "6885",
         null,
         "0"
        ],
        [
         "6952",
         null,
         "0"
        ],
        [
         "7059",
         null,
         "0"
        ],
        [
         "7695",
         null,
         "0"
        ],
        [
         "8201",
         null,
         "0"
        ],
        [
         "8968",
         null,
         "0"
        ],
        [
         "9014",
         null,
         "0"
        ],
        [
         "9219",
         null,
         "0"
        ],
        [
         "9318",
         null,
         "0"
        ],
        [
         "9806",
         null,
         "0"
        ],
        [
         "10640",
         null,
         "0"
        ],
        [
         "10643",
         null,
         "0"
        ],
        [
         "10679",
         null,
         "0"
        ],
        [
         "11943",
         null,
         "0"
        ],
        [
         "12254",
         null,
         "0"
        ],
        [
         "13831",
         null,
         "0"
        ],
        [
         "13905",
         null,
         "0"
        ],
        [
         "13931",
         null,
         "0"
        ],
        [
         "14216",
         null,
         "0"
        ],
        [
         "14407",
         null,
         "0"
        ],
        [
         "14796",
         null,
         "0"
        ],
        [
         "15091",
         null,
         "0"
        ],
        [
         "15141",
         null,
         "0"
        ],
        [
         "15998",
         null,
         "0"
        ],
        [
         "16739",
         null,
         "0"
        ],
        [
         "17359",
         null,
         "0"
        ],
        [
         "17763",
         null,
         "0"
        ],
        [
         "17817",
         null,
         "0"
        ],
        [
         "17970",
         null,
         "0"
        ],
        [
         "18163",
         null,
         "0"
        ],
        [
         "18356",
         null,
         "0"
        ],
        [
         "18437",
         null,
         "0"
        ],
        [
         "18483",
         null,
         "0"
        ],
        [
         "18889",
         null,
         "0"
        ],
        [
         "19069",
         null,
         "0"
        ],
        [
         "19288",
         null,
         "0"
        ],
        [
         "19602",
         null,
         "0"
        ],
        [
         "19914",
         null,
         "0"
        ]
       ],
       "shape": {
        "columns": 2,
        "rows": 100
       }
      },
      "text/html": [
       "<div>\n",
       "<style scoped>\n",
       "    .dataframe tbody tr th:only-of-type {\n",
       "        vertical-align: middle;\n",
       "    }\n",
       "\n",
       "    .dataframe tbody tr th {\n",
       "        vertical-align: top;\n",
       "    }\n",
       "\n",
       "    .dataframe thead th {\n",
       "        text-align: right;\n",
       "    }\n",
       "</style>\n",
       "<table border=\"1\" class=\"dataframe\">\n",
       "  <thead>\n",
       "    <tr style=\"text-align: right;\">\n",
       "      <th></th>\n",
       "      <th>clean_comment</th>\n",
       "      <th>category</th>\n",
       "    </tr>\n",
       "  </thead>\n",
       "  <tbody>\n",
       "    <tr>\n",
       "      <th>413</th>\n",
       "      <td>NaN</td>\n",
       "      <td>0</td>\n",
       "    </tr>\n",
       "    <tr>\n",
       "      <th>605</th>\n",
       "      <td>NaN</td>\n",
       "      <td>0</td>\n",
       "    </tr>\n",
       "    <tr>\n",
       "      <th>2422</th>\n",
       "      <td>NaN</td>\n",
       "      <td>0</td>\n",
       "    </tr>\n",
       "    <tr>\n",
       "      <th>2877</th>\n",
       "      <td>NaN</td>\n",
       "      <td>0</td>\n",
       "    </tr>\n",
       "    <tr>\n",
       "      <th>3307</th>\n",
       "      <td>NaN</td>\n",
       "      <td>0</td>\n",
       "    </tr>\n",
       "    <tr>\n",
       "      <th>...</th>\n",
       "      <td>...</td>\n",
       "      <td>...</td>\n",
       "    </tr>\n",
       "    <tr>\n",
       "      <th>35975</th>\n",
       "      <td>NaN</td>\n",
       "      <td>0</td>\n",
       "    </tr>\n",
       "    <tr>\n",
       "      <th>36036</th>\n",
       "      <td>NaN</td>\n",
       "      <td>0</td>\n",
       "    </tr>\n",
       "    <tr>\n",
       "      <th>37043</th>\n",
       "      <td>NaN</td>\n",
       "      <td>0</td>\n",
       "    </tr>\n",
       "    <tr>\n",
       "      <th>37111</th>\n",
       "      <td>NaN</td>\n",
       "      <td>0</td>\n",
       "    </tr>\n",
       "    <tr>\n",
       "      <th>37238</th>\n",
       "      <td>NaN</td>\n",
       "      <td>0</td>\n",
       "    </tr>\n",
       "  </tbody>\n",
       "</table>\n",
       "<p>100 rows × 2 columns</p>\n",
       "</div>"
      ],
      "text/plain": [
       "      clean_comment  category\n",
       "413             NaN         0\n",
       "605             NaN         0\n",
       "2422            NaN         0\n",
       "2877            NaN         0\n",
       "3307            NaN         0\n",
       "...             ...       ...\n",
       "35975           NaN         0\n",
       "36036           NaN         0\n",
       "37043           NaN         0\n",
       "37111           NaN         0\n",
       "37238           NaN         0\n",
       "\n",
       "[100 rows x 2 columns]"
      ]
     },
     "execution_count": 113,
     "metadata": {},
     "output_type": "execute_result"
    }
   ],
   "source": [
    "df[df['clean_comment'].isna()]"
   ]
  },
  {
   "cell_type": "code",
   "execution_count": 114,
   "id": "4113675a",
   "metadata": {},
   "outputs": [
    {
     "data": {
      "application/vnd.microsoft.datawrangler.viewer.v0+json": {
       "columns": [
        {
         "name": "category",
         "rawType": "int64",
         "type": "integer"
        },
        {
         "name": "count",
         "rawType": "int64",
         "type": "integer"
        }
       ],
       "ref": "95d6eccf-2657-4382-823a-646d8a303803",
       "rows": [
        [
         "0",
         "100"
        ]
       ],
       "shape": {
        "columns": 1,
        "rows": 1
       }
      },
      "text/plain": [
       "category\n",
       "0    100\n",
       "Name: count, dtype: int64"
      ]
     },
     "execution_count": 114,
     "metadata": {},
     "output_type": "execute_result"
    }
   ],
   "source": [
    "df[df['clean_comment'].isna()]['category'].value_counts()"
   ]
  },
  {
   "cell_type": "code",
   "execution_count": 115,
   "id": "450252ef",
   "metadata": {},
   "outputs": [],
   "source": [
    "df.dropna(inplace=True)"
   ]
  },
  {
   "cell_type": "code",
   "execution_count": 116,
   "id": "44a39f95",
   "metadata": {},
   "outputs": [
    {
     "data": {
      "text/plain": [
       "np.int64(350)"
      ]
     },
     "execution_count": 116,
     "metadata": {},
     "output_type": "execute_result"
    }
   ],
   "source": [
    "df.duplicated().sum()"
   ]
  },
  {
   "cell_type": "code",
   "execution_count": 117,
   "id": "f9ae4f06",
   "metadata": {},
   "outputs": [
    {
     "data": {
      "application/vnd.microsoft.datawrangler.viewer.v0+json": {
       "columns": [
        {
         "name": "index",
         "rawType": "int64",
         "type": "integer"
        },
        {
         "name": "clean_comment",
         "rawType": "object",
         "type": "string"
        },
        {
         "name": "category",
         "rawType": "int64",
         "type": "integer"
        }
       ],
       "ref": "2171223b-6ae4-4804-b33a-dd1bfc3a62c4",
       "rows": [
        [
         "375",
         " ",
         "0"
        ],
        [
         "392",
         " ",
         "0"
        ],
        [
         "617",
         " aurum mom ",
         "0"
        ],
        [
         "651",
         " ",
         "0"
        ],
        [
         "1222",
         " ",
         "0"
        ],
        [
         "1528",
         " ",
         "0"
        ],
        [
         "1613",
         " attention please keep mind that the this thread has chosen mark this post with the eddiquette enforced tag therefore any comments that not follow reddiquette will removed please see this page learn more about the tag you see others posting comments that violate this tag please report them the mods thank you for contributing and cooperating bot automoderator comments q11pu what automoderator and this action was performed automatically please contact the moderators this subreddit message compose 2fr 2findia you have any questions concerns ",
         "1"
        ],
        [
         "1760",
         " jpg",
         "0"
        ],
        [
         "1835",
         " ",
         "0"
        ],
        [
         "1858",
         " jpg",
         "0"
        ],
        [
         "1900",
         "why ",
         "0"
        ],
        [
         "1975",
         " ",
         "0"
        ],
        [
         "2339",
         " ",
         "0"
        ],
        [
         "2446",
         " ",
         "0"
        ],
        [
         "2588",
         " ",
         "0"
        ],
        [
         "2780",
         " ",
         "0"
        ],
        [
         "2796",
         " ",
         "0"
        ],
        [
         "2924",
         "congrats isro ",
         "0"
        ],
        [
         "2928",
         " jpg",
         "0"
        ],
        [
         "3252",
         " ",
         "0"
        ],
        [
         "3448",
         "hypocrisy thy name india ",
         "0"
        ],
        [
         "3544",
         "enhance ",
         "0"
        ],
        [
         "3550",
         "enhance ",
         "0"
        ],
        [
         "3617",
         " ",
         "0"
        ],
        [
         "3649",
         " ",
         "0"
        ],
        [
         "3939",
         " ",
         "0"
        ],
        [
         "3987",
         " ",
         "0"
        ],
        [
         "4219",
         " jpg",
         "0"
        ],
        [
         "4396",
         " ",
         "0"
        ],
        [
         "4415",
         " ",
         "0"
        ],
        [
         "4417",
         " ",
         "0"
        ],
        [
         "4431",
         " ",
         "0"
        ],
        [
         "4453",
         "yeah ",
         "0"
        ],
        [
         "4632",
         "excellent post ",
         "1"
        ],
        [
         "4786",
         " ",
         "0"
        ],
        [
         "6778",
         "looks cold ",
         "-1"
        ],
        [
         "7420",
         "keep the good work ",
         "1"
        ],
        [
         "7685",
         " need strong national party keep the ever expanding bjp check last checked congress was the strong national that needed checked for corruption and abuse power",
         "1"
        ],
        [
         "7713",
         " fuck ",
         "-1"
        ],
        [
         "7857",
         "thanks obama ",
         "1"
        ],
        [
         "8046",
         " ",
         "0"
        ],
        [
         "8129",
         "jai maharashtra ",
         "0"
        ],
        [
         "8179",
         " mildlyinteresting",
         "0"
        ],
        [
         "9218",
         " modi",
         "0"
        ],
        [
         "9297",
         " happening ",
         "0"
        ],
        [
         "10258",
         "lol",
         "1"
        ],
        [
         "10323",
         " ",
         "0"
        ],
        [
         "10597",
         " have read each and every comment this thread have been reading for the past hours but still you guys have failed convince that its bad move agree the implementation extremely sloppy far but the mere fact that all that money unaccounted for now the system black white now but still its the system now will give boost the country economy the long run prove wrong this point ",
         "-1"
        ],
        [
         "10618",
         " ",
         "0"
        ],
        [
         "10621",
         " ",
         "0"
        ]
       ],
       "shape": {
        "columns": 2,
        "rows": 350
       }
      },
      "text/html": [
       "<div>\n",
       "<style scoped>\n",
       "    .dataframe tbody tr th:only-of-type {\n",
       "        vertical-align: middle;\n",
       "    }\n",
       "\n",
       "    .dataframe tbody tr th {\n",
       "        vertical-align: top;\n",
       "    }\n",
       "\n",
       "    .dataframe thead th {\n",
       "        text-align: right;\n",
       "    }\n",
       "</style>\n",
       "<table border=\"1\" class=\"dataframe\">\n",
       "  <thead>\n",
       "    <tr style=\"text-align: right;\">\n",
       "      <th></th>\n",
       "      <th>clean_comment</th>\n",
       "      <th>category</th>\n",
       "    </tr>\n",
       "  </thead>\n",
       "  <tbody>\n",
       "    <tr>\n",
       "      <th>375</th>\n",
       "      <td></td>\n",
       "      <td>0</td>\n",
       "    </tr>\n",
       "    <tr>\n",
       "      <th>392</th>\n",
       "      <td></td>\n",
       "      <td>0</td>\n",
       "    </tr>\n",
       "    <tr>\n",
       "      <th>617</th>\n",
       "      <td>aurum mom</td>\n",
       "      <td>0</td>\n",
       "    </tr>\n",
       "    <tr>\n",
       "      <th>651</th>\n",
       "      <td></td>\n",
       "      <td>0</td>\n",
       "    </tr>\n",
       "    <tr>\n",
       "      <th>1222</th>\n",
       "      <td></td>\n",
       "      <td>0</td>\n",
       "    </tr>\n",
       "    <tr>\n",
       "      <th>...</th>\n",
       "      <td>...</td>\n",
       "      <td>...</td>\n",
       "    </tr>\n",
       "    <tr>\n",
       "      <th>36915</th>\n",
       "      <td>who won</td>\n",
       "      <td>0</td>\n",
       "    </tr>\n",
       "    <tr>\n",
       "      <th>37044</th>\n",
       "      <td></td>\n",
       "      <td>0</td>\n",
       "    </tr>\n",
       "    <tr>\n",
       "      <th>37125</th>\n",
       "      <td>hari</td>\n",
       "      <td>0</td>\n",
       "    </tr>\n",
       "    <tr>\n",
       "      <th>37158</th>\n",
       "      <td>top kek</td>\n",
       "      <td>1</td>\n",
       "    </tr>\n",
       "    <tr>\n",
       "      <th>37234</th>\n",
       "      <td>this part series minute videos focusing each d...</td>\n",
       "      <td>1</td>\n",
       "    </tr>\n",
       "  </tbody>\n",
       "</table>\n",
       "<p>350 rows × 2 columns</p>\n",
       "</div>"
      ],
      "text/plain": [
       "                                           clean_comment  category\n",
       "375                                                              0\n",
       "392                                                              0\n",
       "617                                           aurum mom          0\n",
       "651                                                              0\n",
       "1222                                                             0\n",
       "...                                                  ...       ...\n",
       "36915                                           who won          0\n",
       "37044                                                            0\n",
       "37125                                              hari          0\n",
       "37158                                           top kek          1\n",
       "37234  this part series minute videos focusing each d...         1\n",
       "\n",
       "[350 rows x 2 columns]"
      ]
     },
     "execution_count": 117,
     "metadata": {},
     "output_type": "execute_result"
    }
   ],
   "source": [
    "df[df.duplicated()]"
   ]
  },
  {
   "cell_type": "code",
   "execution_count": 118,
   "id": "790276d0",
   "metadata": {},
   "outputs": [
    {
     "data": {
      "application/vnd.microsoft.datawrangler.viewer.v0+json": {
       "columns": [
        {
         "name": "index",
         "rawType": "int64",
         "type": "integer"
        },
        {
         "name": "clean_comment",
         "rawType": "object",
         "type": "string"
        },
        {
         "name": "category",
         "rawType": "int64",
         "type": "integer"
        }
       ],
       "ref": "86b0627a-8dc0-4364-b66b-ae69c4f63c8c",
       "rows": [
        [
         "181",
         " ",
         "0"
        ],
        [
         "375",
         " ",
         "0"
        ],
        [
         "392",
         " ",
         "0"
        ],
        [
         "651",
         " ",
         "0"
        ],
        [
         "1222",
         " ",
         "0"
        ],
        [
         "1528",
         " ",
         "0"
        ],
        [
         "1835",
         " ",
         "0"
        ],
        [
         "1975",
         " ",
         "0"
        ],
        [
         "2339",
         " ",
         "0"
        ],
        [
         "2446",
         " ",
         "0"
        ],
        [
         "2588",
         " ",
         "0"
        ],
        [
         "2780",
         " ",
         "0"
        ],
        [
         "2796",
         " ",
         "0"
        ],
        [
         "3252",
         " ",
         "0"
        ],
        [
         "3617",
         " ",
         "0"
        ],
        [
         "3649",
         " ",
         "0"
        ],
        [
         "3939",
         " ",
         "0"
        ],
        [
         "3987",
         " ",
         "0"
        ],
        [
         "4396",
         " ",
         "0"
        ],
        [
         "4415",
         " ",
         "0"
        ],
        [
         "4417",
         " ",
         "0"
        ],
        [
         "4431",
         " ",
         "0"
        ],
        [
         "4432",
         "\n",
         "0"
        ],
        [
         "4786",
         " ",
         "0"
        ],
        [
         "8046",
         " ",
         "0"
        ],
        [
         "10323",
         " ",
         "0"
        ],
        [
         "10592",
         "    ",
         "0"
        ],
        [
         "10618",
         " ",
         "0"
        ],
        [
         "10621",
         " ",
         "0"
        ],
        [
         "10626",
         " ",
         "0"
        ],
        [
         "10630",
         " ",
         "0"
        ],
        [
         "10929",
         " ",
         "0"
        ],
        [
         "11118",
         " ",
         "0"
        ],
        [
         "11467",
         " ",
         "0"
        ],
        [
         "11825",
         " ",
         "0"
        ],
        [
         "11958",
         " ",
         "0"
        ],
        [
         "12775",
         " ",
         "0"
        ],
        [
         "12857",
         " ",
         "0"
        ],
        [
         "13169",
         " ",
         "0"
        ],
        [
         "13296",
         " ",
         "0"
        ],
        [
         "13409",
         " ",
         "0"
        ],
        [
         "13573",
         " ",
         "0"
        ],
        [
         "13583",
         "\n",
         "0"
        ],
        [
         "14207",
         " ",
         "0"
        ],
        [
         "14460",
         " ",
         "0"
        ],
        [
         "14805",
         " ",
         "0"
        ],
        [
         "14815",
         " ",
         "0"
        ],
        [
         "15385",
         " ",
         "0"
        ],
        [
         "15442",
         " ",
         "0"
        ],
        [
         "15832",
         " ",
         "0"
        ]
       ],
       "shape": {
        "columns": 2,
        "rows": 121
       }
      },
      "text/html": [
       "<div>\n",
       "<style scoped>\n",
       "    .dataframe tbody tr th:only-of-type {\n",
       "        vertical-align: middle;\n",
       "    }\n",
       "\n",
       "    .dataframe tbody tr th {\n",
       "        vertical-align: top;\n",
       "    }\n",
       "\n",
       "    .dataframe thead th {\n",
       "        text-align: right;\n",
       "    }\n",
       "</style>\n",
       "<table border=\"1\" class=\"dataframe\">\n",
       "  <thead>\n",
       "    <tr style=\"text-align: right;\">\n",
       "      <th></th>\n",
       "      <th>clean_comment</th>\n",
       "      <th>category</th>\n",
       "    </tr>\n",
       "  </thead>\n",
       "  <tbody>\n",
       "    <tr>\n",
       "      <th>181</th>\n",
       "      <td></td>\n",
       "      <td>0</td>\n",
       "    </tr>\n",
       "    <tr>\n",
       "      <th>375</th>\n",
       "      <td></td>\n",
       "      <td>0</td>\n",
       "    </tr>\n",
       "    <tr>\n",
       "      <th>392</th>\n",
       "      <td></td>\n",
       "      <td>0</td>\n",
       "    </tr>\n",
       "    <tr>\n",
       "      <th>651</th>\n",
       "      <td></td>\n",
       "      <td>0</td>\n",
       "    </tr>\n",
       "    <tr>\n",
       "      <th>1222</th>\n",
       "      <td></td>\n",
       "      <td>0</td>\n",
       "    </tr>\n",
       "    <tr>\n",
       "      <th>...</th>\n",
       "      <td>...</td>\n",
       "      <td>...</td>\n",
       "    </tr>\n",
       "    <tr>\n",
       "      <th>35711</th>\n",
       "      <td></td>\n",
       "      <td>0</td>\n",
       "    </tr>\n",
       "    <tr>\n",
       "      <th>35778</th>\n",
       "      <td></td>\n",
       "      <td>0</td>\n",
       "    </tr>\n",
       "    <tr>\n",
       "      <th>35987</th>\n",
       "      <td></td>\n",
       "      <td>0</td>\n",
       "    </tr>\n",
       "    <tr>\n",
       "      <th>36707</th>\n",
       "      <td></td>\n",
       "      <td>0</td>\n",
       "    </tr>\n",
       "    <tr>\n",
       "      <th>37044</th>\n",
       "      <td></td>\n",
       "      <td>0</td>\n",
       "    </tr>\n",
       "  </tbody>\n",
       "</table>\n",
       "<p>121 rows × 2 columns</p>\n",
       "</div>"
      ],
      "text/plain": [
       "      clean_comment  category\n",
       "181                         0\n",
       "375                         0\n",
       "392                         0\n",
       "651                         0\n",
       "1222                        0\n",
       "...             ...       ...\n",
       "35711                       0\n",
       "35778                       0\n",
       "35987                       0\n",
       "36707                       0\n",
       "37044                       0\n",
       "\n",
       "[121 rows x 2 columns]"
      ]
     },
     "execution_count": 118,
     "metadata": {},
     "output_type": "execute_result"
    }
   ],
   "source": [
    "df[(df['clean_comment'].str.strip()=='')]"
   ]
  },
  {
   "cell_type": "code",
   "execution_count": 119,
   "id": "2e28c577",
   "metadata": {},
   "outputs": [
    {
     "data": {
      "application/vnd.microsoft.datawrangler.viewer.v0+json": {
       "columns": [
        {
         "name": "index",
         "rawType": "int64",
         "type": "integer"
        },
        {
         "name": "clean_comment",
         "rawType": "object",
         "type": "string"
        },
        {
         "name": "category",
         "rawType": "int64",
         "type": "integer"
        }
       ],
       "ref": "9de106f5-ff83-486c-a985-a801cd131423",
       "rows": [
        [
         "375",
         " ",
         "0"
        ],
        [
         "392",
         " ",
         "0"
        ],
        [
         "617",
         " aurum mom ",
         "0"
        ],
        [
         "651",
         " ",
         "0"
        ],
        [
         "1222",
         " ",
         "0"
        ],
        [
         "1528",
         " ",
         "0"
        ],
        [
         "1613",
         " attention please keep mind that the this thread has chosen mark this post with the eddiquette enforced tag therefore any comments that not follow reddiquette will removed please see this page learn more about the tag you see others posting comments that violate this tag please report them the mods thank you for contributing and cooperating bot automoderator comments q11pu what automoderator and this action was performed automatically please contact the moderators this subreddit message compose 2fr 2findia you have any questions concerns ",
         "1"
        ],
        [
         "1760",
         " jpg",
         "0"
        ],
        [
         "1835",
         " ",
         "0"
        ],
        [
         "1858",
         " jpg",
         "0"
        ],
        [
         "1900",
         "why ",
         "0"
        ],
        [
         "1975",
         " ",
         "0"
        ],
        [
         "2339",
         " ",
         "0"
        ],
        [
         "2446",
         " ",
         "0"
        ],
        [
         "2588",
         " ",
         "0"
        ],
        [
         "2780",
         " ",
         "0"
        ],
        [
         "2796",
         " ",
         "0"
        ],
        [
         "2924",
         "congrats isro ",
         "0"
        ],
        [
         "2928",
         " jpg",
         "0"
        ],
        [
         "3252",
         " ",
         "0"
        ],
        [
         "3448",
         "hypocrisy thy name india ",
         "0"
        ],
        [
         "3544",
         "enhance ",
         "0"
        ],
        [
         "3550",
         "enhance ",
         "0"
        ],
        [
         "3617",
         " ",
         "0"
        ],
        [
         "3649",
         " ",
         "0"
        ],
        [
         "3939",
         " ",
         "0"
        ],
        [
         "3987",
         " ",
         "0"
        ],
        [
         "4219",
         " jpg",
         "0"
        ],
        [
         "4396",
         " ",
         "0"
        ],
        [
         "4415",
         " ",
         "0"
        ],
        [
         "4417",
         " ",
         "0"
        ],
        [
         "4431",
         " ",
         "0"
        ],
        [
         "4453",
         "yeah ",
         "0"
        ],
        [
         "4632",
         "excellent post ",
         "1"
        ],
        [
         "4786",
         " ",
         "0"
        ],
        [
         "6778",
         "looks cold ",
         "-1"
        ],
        [
         "7420",
         "keep the good work ",
         "1"
        ],
        [
         "7685",
         " need strong national party keep the ever expanding bjp check last checked congress was the strong national that needed checked for corruption and abuse power",
         "1"
        ],
        [
         "7713",
         " fuck ",
         "-1"
        ],
        [
         "7857",
         "thanks obama ",
         "1"
        ],
        [
         "8046",
         " ",
         "0"
        ],
        [
         "8129",
         "jai maharashtra ",
         "0"
        ],
        [
         "8179",
         " mildlyinteresting",
         "0"
        ],
        [
         "9218",
         " modi",
         "0"
        ],
        [
         "9297",
         " happening ",
         "0"
        ],
        [
         "10258",
         "lol",
         "1"
        ],
        [
         "10323",
         " ",
         "0"
        ],
        [
         "10597",
         " have read each and every comment this thread have been reading for the past hours but still you guys have failed convince that its bad move agree the implementation extremely sloppy far but the mere fact that all that money unaccounted for now the system black white now but still its the system now will give boost the country economy the long run prove wrong this point ",
         "-1"
        ],
        [
         "10618",
         " ",
         "0"
        ],
        [
         "10621",
         " ",
         "0"
        ]
       ],
       "shape": {
        "columns": 2,
        "rows": 350
       }
      },
      "text/html": [
       "<div>\n",
       "<style scoped>\n",
       "    .dataframe tbody tr th:only-of-type {\n",
       "        vertical-align: middle;\n",
       "    }\n",
       "\n",
       "    .dataframe tbody tr th {\n",
       "        vertical-align: top;\n",
       "    }\n",
       "\n",
       "    .dataframe thead th {\n",
       "        text-align: right;\n",
       "    }\n",
       "</style>\n",
       "<table border=\"1\" class=\"dataframe\">\n",
       "  <thead>\n",
       "    <tr style=\"text-align: right;\">\n",
       "      <th></th>\n",
       "      <th>clean_comment</th>\n",
       "      <th>category</th>\n",
       "    </tr>\n",
       "  </thead>\n",
       "  <tbody>\n",
       "    <tr>\n",
       "      <th>375</th>\n",
       "      <td></td>\n",
       "      <td>0</td>\n",
       "    </tr>\n",
       "    <tr>\n",
       "      <th>392</th>\n",
       "      <td></td>\n",
       "      <td>0</td>\n",
       "    </tr>\n",
       "    <tr>\n",
       "      <th>617</th>\n",
       "      <td>aurum mom</td>\n",
       "      <td>0</td>\n",
       "    </tr>\n",
       "    <tr>\n",
       "      <th>651</th>\n",
       "      <td></td>\n",
       "      <td>0</td>\n",
       "    </tr>\n",
       "    <tr>\n",
       "      <th>1222</th>\n",
       "      <td></td>\n",
       "      <td>0</td>\n",
       "    </tr>\n",
       "    <tr>\n",
       "      <th>...</th>\n",
       "      <td>...</td>\n",
       "      <td>...</td>\n",
       "    </tr>\n",
       "    <tr>\n",
       "      <th>36915</th>\n",
       "      <td>who won</td>\n",
       "      <td>0</td>\n",
       "    </tr>\n",
       "    <tr>\n",
       "      <th>37044</th>\n",
       "      <td></td>\n",
       "      <td>0</td>\n",
       "    </tr>\n",
       "    <tr>\n",
       "      <th>37125</th>\n",
       "      <td>hari</td>\n",
       "      <td>0</td>\n",
       "    </tr>\n",
       "    <tr>\n",
       "      <th>37158</th>\n",
       "      <td>top kek</td>\n",
       "      <td>1</td>\n",
       "    </tr>\n",
       "    <tr>\n",
       "      <th>37234</th>\n",
       "      <td>this part series minute videos focusing each d...</td>\n",
       "      <td>1</td>\n",
       "    </tr>\n",
       "  </tbody>\n",
       "</table>\n",
       "<p>350 rows × 2 columns</p>\n",
       "</div>"
      ],
      "text/plain": [
       "                                           clean_comment  category\n",
       "375                                                              0\n",
       "392                                                              0\n",
       "617                                           aurum mom          0\n",
       "651                                                              0\n",
       "1222                                                             0\n",
       "...                                                  ...       ...\n",
       "36915                                           who won          0\n",
       "37044                                                            0\n",
       "37125                                              hari          0\n",
       "37158                                           top kek          1\n",
       "37234  this part series minute videos focusing each d...         1\n",
       "\n",
       "[350 rows x 2 columns]"
      ]
     },
     "execution_count": 119,
     "metadata": {},
     "output_type": "execute_result"
    }
   ],
   "source": [
    "df[df.duplicated()]"
   ]
  },
  {
   "cell_type": "code",
   "execution_count": 120,
   "id": "52e39e17",
   "metadata": {},
   "outputs": [
    {
     "data": {
      "text/plain": [
       "np.int64(350)"
      ]
     },
     "execution_count": 120,
     "metadata": {},
     "output_type": "execute_result"
    }
   ],
   "source": [
    "df.duplicated().sum()"
   ]
  },
  {
   "cell_type": "code",
   "execution_count": 121,
   "id": "899748fc",
   "metadata": {},
   "outputs": [],
   "source": [
    "df.drop_duplicates(inplace=True)"
   ]
  },
  {
   "cell_type": "code",
   "execution_count": 122,
   "id": "2cb5a4fd",
   "metadata": {},
   "outputs": [
    {
     "data": {
      "text/plain": [
       "np.int64(0)"
      ]
     },
     "execution_count": 122,
     "metadata": {},
     "output_type": "execute_result"
    }
   ],
   "source": [
    "df.duplicated().sum()"
   ]
  },
  {
   "cell_type": "code",
   "execution_count": 123,
   "id": "ec1d41bb",
   "metadata": {},
   "outputs": [],
   "source": [
    "df['clean_comment'] = df['clean_comment'].str.lower()"
   ]
  },
  {
   "cell_type": "code",
   "execution_count": 124,
   "id": "c1c7d496",
   "metadata": {},
   "outputs": [
    {
     "data": {
      "application/vnd.microsoft.datawrangler.viewer.v0+json": {
       "columns": [
        {
         "name": "index",
         "rawType": "int64",
         "type": "integer"
        },
        {
         "name": "clean_comment",
         "rawType": "object",
         "type": "string"
        },
        {
         "name": "category",
         "rawType": "int64",
         "type": "integer"
        }
       ],
       "ref": "563b64ce-df60-4fc8-90e3-0f5a19bd51a6",
       "rows": [
        [
         "0",
         " family mormon have never tried explain them they still stare puzzled from time time like some kind strange creature nonetheless they have come admire for the patience calmness equanimity acceptance and compassion have developed all the things buddhism teaches ",
         "1"
        ],
        [
         "1",
         "buddhism has very much lot compatible with christianity especially considering that sin and suffering are almost the same thing suffering caused wanting things shouldn want going about getting things the wrong way christian this would mean wanting things that don coincide with god will and wanting things that coincide but without the aid jesus buddhism could also seen proof god all mighty will and omnipotence certainly christians are lucky have one such christ there side but what about everyone else well many christians believe god grace salvation and buddhism god way showing grace upon others would also help study the things jesus said and see how buddha has made similar claims such rich man getting into heaven joke basically advocating that should rid ourselves material possessions fact distinctly remembered jesus making someone cry because that someone asked what achieve salvation and jesus replied with live like buddhist very very roughly translated also point out that buddha rarely spoke anything about god theory personally because knew well enough leave that jesus and mohamed who came later just remember conflict difference opinion but education can fun involving and enlightening easier teach something than prove right like intelligent design ",
         "1"
        ],
        [
         "2",
         "seriously don say thing first all they won get its too complex explain normal people anyway and they are dogmatic then doesn matter what you say see mechante post and for any reason you decide later life move from buddhism and that doesn suit you identity though you still get keep all the wisdom then your family will treat you like you went through weird hippy phase for while there didncha and you never hear the end pro tip don put one these your wall jpg ",
         "-1"
        ],
        [
         "3",
         "what you have learned yours and only yours what you want teach different focus the goal not the wrapping paper buddhism can passed others without word about the buddha ",
         "0"
        ],
        [
         "4",
         "for your own benefit you may want read living buddha living christ thich nhat hanh you might find any subsequent discussions with your loved ones easier you are able articulate some the parallels that exist between buddhism and christianity don surprised they react negatively for having lost you treat them with compassion and deserved understanding although they may indeed display signs being hurt your new path properly sharing with them way that may alleviate their fear something they may perceive wrong the very least alien their beliefs may help allowing them the long run accept although not necessarily agree with your decision regardless where they end you have make your own way ",
         "1"
        ],
        [
         "5",
         "you should all sit down together and watch the simpsons episode where lisa becomes buddhist simpsons season episode she little faith then discuss ",
         "-1"
        ],
        [
         "6",
         " was teens when discovered zen meditation was then undiagnosed bpd being homeschooled and just gotten 56k modem with web connection where came across link zen meditation tried for couple weeks and the change was palpable felt the most profound sense peace ever felt grades immediately started going had more energy started martial arts just huge positive change all around parents asked something was wrong fundie parents when anything changes this was where naiveté kicked foolishly told them been trying meditation and really calmed down thought they happy that found something that helped but never forget what happened next mother affected this mockingly calm breathy voice she said you can pretend calm and happy all you want but without jesus you never content was that moment that any belief had christian faith all vanished completely realized that she had probably never been happy ever have never felt profoundly sorry for someone did for her that moment ",
         "1"
        ],
        [
         "7",
         "jesus was zen meets jew ",
         "0"
        ],
        [
         "8",
         "there are two varieties christians dogmatic that dwell words and conservative that take heart the spirit the teachings hate oversimplify things but helps this understanding you are discussing with dogmatic religious people who live the letter the law will uphill battle wish you luck you are discussing with moderates exchange idea should come fairly easily comparing contrasting also discussing parallel teachings presented differently wouldn out the ordinary they may give you relevant spiritual advice even though you are not believer their religion ",
         "-1"
        ],
        [
         "9",
         "dont worry about trying explain yourself just meditate regularly and try hard you can more aware everything else will follow coming from someone who has been throught his situation welcome pms ",
         "1"
        ],
        [
         "10",
         " recently told family that buddhist live the bible belt this whole ordeal involved leaving the baptist church and everything been pretty rough but those who really care about have been open and accepting they seen the good has created life and relationships with others fact there are handful christians who have lovely conversations with and that truly respect someone else suggested living buddha living christ great one read about the important dialogue between buddhists and christians also welcome you message ",
         "1"
        ],
        [
         "11",
         " unto others you would have them unto you would good start ",
         "1"
        ],
        [
         "12",
         "first understand that you are not anyway control how they will react always find that any subject better understood first learning the vocabulary explain what the word buddha means most people believe buddhists praise worship and follow guy named buddha christians due jesus let them know that one could both buddhist and christian with conflict the teachings and the messages jesus are indeed buddhist philosophy jesus became enlightened buddha and realized that had become annointed being christ then continue with your practice and let them work out their own issues that advice all the best ",
         "1"
        ],
        [
         "13",
         " recently heard similar question where person asked they should introduce meditation his loved ones who had challenges coping with problems life the answer from the lama was quite interesting instead giving people advice one should focus his practice that way others will see the change and maybe even ask about personally think better keep yourself even though you must really excited about you can also keep dharma books around the house and sure people will pick them for quick browse when you are not looking learn bit about other people traditions well browsing through books they owned ",
         "1"
        ],
        [
         "15",
         "does evil include the lady pai chunked ",
         "-1"
        ],
        [
         "16",
         "our campaign has two suns one pelor the other shamedan pelor the god all know and find bit stifling really shamedan the sun desert the burning sun who will kill you without mercy even second though shamedan brings drought and brings the fire that destroys all you own generally not very nice has race fey called desert hags who worship him and have radiant and fire resistance but they haven played nearly much part the campaign they should have ",
         "1"
        ],
        [
         "17",
         "technically you could argue that sobek evil would represent power and also crocodiles whereas also represents fertile land also the guy could shapeshift into crocodile badass ",
         "-1"
        ],
        [
         "18",
         " zarus ",
         "0"
        ],
        [
         "19",
         "blood and souls for lord arioch ",
         "0"
        ],
        [
         "20",
         " always liked vecna the one time was able use him story had blast playing the fact that was far not the most powerful deity but was one the most dangerous due his portfolio but favorite pale night who technically not deity but close enough guess most the abyssal lords and the rulers the nine hells are fairly straightforward and have ample backstory but her lack thereof just intriguing ",
         "1"
        ],
        [
         "21",
         "though don have any good suggestions for additional deities the moment you should probably have some overlap the cavern dwelling gnolls might consider pelor the god evil blinding them with his wicked light loki has sufficiently fooled them over the years into thinking their benefactor always leading them the bountiful crops they steal from the peasantry they have statues him fat woman giving out food the starving they view the god death the god justice giving righteous end those gnolls that have served brutal conflicts point view can change everything ",
         "-1"
        ],
        [
         "22",
         " cliche but you can wrong with cyric mean was mortal who just nabbed all when got the chance you gotta respect that ",
         "-1"
        ],
        [
         "23",
         "zon kuthon and his sister shelyn good deity have really cool story from the pathfinder setting plus off topic pathfinder has the coolest good deity ever cayden cailean was bard that got wasted one night stumbled into the temple the star stone artifact that can turn you into deity and woke the next morning with hangover memory the night before and godly powers ",
         "1"
        ],
        [
         "24",
         " homebrew setting the primary lawful evil deity named for friend lewie essentially has three domains tyranny law applied without mercy vengeance and community the idea being that cruel and harsh god but also recognizes that you catch more flies with honey than with vinegar thus his church often the most benevolent toward the common people day day basis the running gag that lewian churches sponsor more inner city basketball teams than any other major faith you probably want change the name but might make interesting dynamic within your setting ",
         "-1"
        ],
        [
         "25",
         "his name shall lump wherever lumps are there warts tree burls breasts humpback whales ",
         "0"
        ],
        [
         "26",
         "for one campaign pretty much just snatched the chaos god nurgle lord plague from the whfb wh40k universe renamed him narghull was nar ghull can remember random apostrophes are always nice though the campaign revolved around his cult trying wake the god from sleep that had lasted 1000 years but sadly stalled very lazy this was back was never meant encountered directly meaning never worked out any stats anything basically works spread plague and other diseases and pretty damn evil think ",
         "-1"
        ],
        [
         "27",
         "demogorgon because fuck you and your shit god ",
         "-1"
        ],
        [
         "28",
         "you want badasss evil gods you want real gods then choose from this list there plenty evil cthulhu mythos ",
         "-1"
        ],
        [
         "29",
         "pelor the burning hate the best evil god ",
         "-1"
        ],
        [
         "30",
         "fyi the traditional chtonic deity for magic for the romans least was the goddess hecate ",
         "1"
        ],
        [
         "31",
         " far evil goes big fan shar from the forgotten realms setting the god ultimate despair loss and suffering you know god evil when followers don even bother asking for small boons but instead invoke suffering themselves and others hopes that those events will enough prevent the god from needing get involved personally bringing suffering into the world shar isn one those pansy goddesses evil where you might get nod appreciation for sacrifice with shar you better kill somebody damn near ever day and you get nothing and like with check out the dogma here ",
         "-1"
        ],
        [
         "32",
         " like the idea prometheus giving magic the pcs however think that prometheus should more like demi god and that the reason why gives the magic mortals prometheus could jealous the fact that the gods have all the powers and they granted him only half status upon his creation thus his revenge giving humanity order turn the tides power among deities and mortals furthermore perhaps the repercussion prometheus feels from his action being dragged the underworld cerberus making him seem less than deity like and more mortal inhuman order face judgment from egyptian goddess morals virtue and judge the dead ",
         "1"
        ],
        [
         "33",
         "pelor the burning hate also hextor boss god tyranny and conquest always fun think one the books there god lawyers too ",
         "-1"
        ],
        [
         "34",
         "wee jas lawful neutral god death magic and necromancy not evil god but perfect representation the inevitable things which mortals fear while other evil gods make plans which may thwarted wee jas merely waits all shall come her the end also playing cleric her fabulous fun ",
         "1"
        ],
        [
         "35",
         "zen master bassui said when the functioning analytical consciousness destroyed feelings are purified this referred the pure land the west you truly want know the meaning being born the pure land you must first know the master who born this land the physical body has never from its inception been the true body but rather temporary formation the five aggregates after the four elements disperse what remains called the self the self originally empty what that born the pure land there master born the pure land what that seeks this land bliss just extinguish the ever seeking mind rid thoughts and attachment form and the body consisting the four elements will have individual self when there individual mind the nature mind and there aspect disorder ",
         "1"
        ],
        [
         "36",
         "pure land other power opposed the usual self power taught most buddhist schools though the pure land here and now and not some other dimension the afterlife ",
         "1"
        ],
        [
         "37",
         "there are many flavours buddhism pure land ideas are not common all them however the important thing realize doesn really matter that the big difference compared the abrahamic religions buddhism not dogmatic the sense bunch things that must taken literally else you are non believer sinner whatever maybe pure land ideas work for you great maybe they don great what works for you works for you what doesn work useless you the historical buddha himself taught dramatically different styles suit his audience parables and metaphors are just that the point where they take you not literally believing them literally and physically true zen koans are good example this very purely distilled most are the form stories but not stories you are believe physically happened you are reading history book that entirely irrelevant what the story does you that the point you are wondering did this really happen does this place really exist you are missing that point also worth noting that most things are about psychological phenomenon not physical phenomenon personally find this makes buddhist cosmology much easier understand than considering competitor physical cosmology they not conflict they just about different cosmos ",
         "1"
        ],
        [
         "38",
         " going try comment this simply can gets metaphysical and some may even say supernatural but hope you can try maintain open mind enough for help with your understanding everything that physical everything that exists the universe and beyond are created the power the mind exercised through consciousness mara created the samsara worlds planes dimensions that may experience joy sadness love heartbreaks etc this was done through his her its focus the mind and streams consciousness began attracted these worlds planes dimensions and begin develop craving for existence and thus begins the cycle rebirth the pure lands buddhism were created the focus the mind amitabha buddha way help individuals attain enlightenment their own pace amitabha buddha understood that the attraction emotions sex love and existence can overwhelming for normal individuals overcome within one lifetime 100 years average for human beings other beings much shorter and yet others much longer created the pure lands the west place refuge and practice for those who call upon his name sincerely this place not metaphorical state mind while these individuals are earth for lack better word real though not necessarily physical the way feel physical things via the electromagnetic repelling force electrons this world certain laws physics are applicable that world land plane dimension whatchamacallit certain laws physics not apply and yet newer laws superphysics would also the rule there that not the law our world now having been carried this land doesn mean that the individuals are guaranteed enlightenment first they still need cultivate themselves while there enlightenment not given dependant every single individual consciousness efforts shed the fetters samsara anger ignorance and jealousy and embrace the noble truths they may choose rejoin the samsaric worlds again and back into the cycle rebirth but least they have the option stay and cultivate themselves the pure land the west that would the main difference between the abrahamic idea heaven against the amitabha buddha pure lands the west hope this helps ",
         "1"
        ],
        [
         "39",
         " think your characterization pure land isn that far off there reason not that popular among westerners odd abandon christianity judaism and take pure land because first impressions buddhism was that was devoid dogma but now seems much leap faith the abrahamic religions least the pure land sect most forms buddhism have some sort supernatural element some orthodox believers might deny that just like some christians might attempt make scientific arguments for the world being 6000 years old the very least you have rebirth and different planes that includes devas zen seems have the least reverence for dogma which why popular the west the other western strategy assume things are meaningful figuratively and not literally but yeah buddhism religion the end the day for most its followers ",
         "1"
        ],
        [
         "40",
         "most religions have dogmatic orthodox well esoteric philosophic side the christian heaven can seen palace the clouds state mind rebirth buddhism can seen fact just superstition left over from other beliefs you interpret and understand you see fit like think about various religions talking about the same thing using different words and yes cherry pick what believe but honestly and very carefully think better than taking everything religion says and rejecting everything doesn say there must hundred different ways talk about enlightenment heaven pure land individuation alchemy rites passage education trials meditation the tricky part that what describes can easily explained words and most importantly has understood which different than just knowing reading about the pure land real place state mind doubt real place but sure some will believe buddhism has some dogma but not nearly much eastern religions ",
         "1"
        ],
        [
         "41",
         "you won find one answer your question but the pure land state mind perspective reality not separate place let quote thich nhat hanh human beings our deepest desire find environment which secure and where there love and understanding all want live such environment you live surroundings where you feel there security understanding and love and where people have the capacity transform their suffering fear and attachment then you live the pure land from finding our true home this isn leap faith all because you have already been the pure land but momentarily every time you bring the buddha mind fully then you are said the pure land imagine because you enter that state some degree this not matter faith but expanding upon what you know joyful experience quite different the abrahamic religions concept heaven which eschatological reality rather than gnostic one will add that there course are some who believe the pure land totally separate paradise however there are positive ways understanding this when the state mind another rebirth will seem like such foreign reality that may well different place entirely ",
         "1"
        ],
        [
         "42",
         " first impressions buddhism was that was devoid dogma isn good thing about buddhism least for outsider that much easier pick and choose what parts you not want use see dogma kind environment habitat for the profound and useful ideas develop all religions have something useful buddhist religions and not just one homogeneous buddhism just seem have something that more relevant and powerful the context our culture ",
         "1"
        ],
        [
         "43",
         "from limited knowledge the pure land not paradise but place contemplation stepping off point where you are given the knowledge leave the cycle suffering and rebirth anything more akin the now defunct catholic idea purgatory than actual heaven ",
         "1"
        ],
        [
         "44",
         " response your question about how amitabha created the pure land this quote from the article pure land buddhism wikipedia the longer sukhāvatīvyūha sūtra the buddha begins describing his attendant ānanda past life the buddha amitābha states that past life amitābha was once king who renounced his kingdom and became bodhisattva monk named dharmākara dharma storehouse under the guidance the buddha lokeśvararāja world sovereign king innumerable buddha lands throughout the ten directions were revealed him after meditating for five eons bodhisattva then made great series vows save all sentient beings and through his great merit created the realm sukhāvatī ultimate bliss this land sukhāvatī would later come known the pure land chinese translation important remember that buddhism has been around for thousands years and that for long time buddhists didn have telescopes big machines scan the brain with his holiness the dalai lama himself has said that the discoveries science and the teachings buddhism contradict then the discoveries science are correct this video tgv1gwvrz one the major teachings the buddha was test out each his teachings oneself order see they were true rather than taking his word faith without proof however course just man who has seen mountain some remote region where one has not traveled may believed until the distance that region crossed might have some sort faith buddhist teachings since the people doing the teachings have often devoted their whole lives the teachings the buddha ",
         "1"
        ],
        [
         "45",
         "exactly the song was jamming when made this ",
         "1"
        ],
        [
         "46",
         " nam indeed ",
         "0"
        ],
        [
         "47",
         " jbdbx28pxga",
         "0"
        ],
        [
         "48",
         "maybe they ate dosa who knows ",
         "0"
        ],
        [
         "49",
         "according this nbc chicago article walsh holds ladies week 169189026 html here what they have say about joe walsh unless you’ conservative suburban white male over rep joe walsh tea party ill has said something offend you walsh’ rhetoric has been caricature the image republicans party devoted only old white guys ",
         "-1"
        ],
        [
         "50",
         "are you guys seriously pissed about idli sambar remark thought were past all this second thoughts one gives shit about the tea party not even the their craziness got too much even for the hardcore republicans ",
         "-1"
        ]
       ],
       "shape": {
        "columns": 2,
        "rows": 32271
       }
      },
      "text/html": [
       "<div>\n",
       "<style scoped>\n",
       "    .dataframe tbody tr th:only-of-type {\n",
       "        vertical-align: middle;\n",
       "    }\n",
       "\n",
       "    .dataframe tbody tr th {\n",
       "        vertical-align: top;\n",
       "    }\n",
       "\n",
       "    .dataframe thead th {\n",
       "        text-align: right;\n",
       "    }\n",
       "</style>\n",
       "<table border=\"1\" class=\"dataframe\">\n",
       "  <thead>\n",
       "    <tr style=\"text-align: right;\">\n",
       "      <th></th>\n",
       "      <th>clean_comment</th>\n",
       "      <th>category</th>\n",
       "    </tr>\n",
       "  </thead>\n",
       "  <tbody>\n",
       "    <tr>\n",
       "      <th>0</th>\n",
       "      <td>family mormon have never tried explain them t...</td>\n",
       "      <td>1</td>\n",
       "    </tr>\n",
       "    <tr>\n",
       "      <th>1</th>\n",
       "      <td>buddhism has very much lot compatible with chr...</td>\n",
       "      <td>1</td>\n",
       "    </tr>\n",
       "    <tr>\n",
       "      <th>2</th>\n",
       "      <td>seriously don say thing first all they won get...</td>\n",
       "      <td>-1</td>\n",
       "    </tr>\n",
       "    <tr>\n",
       "      <th>3</th>\n",
       "      <td>what you have learned yours and only yours wha...</td>\n",
       "      <td>0</td>\n",
       "    </tr>\n",
       "    <tr>\n",
       "      <th>4</th>\n",
       "      <td>for your own benefit you may want read living ...</td>\n",
       "      <td>1</td>\n",
       "    </tr>\n",
       "    <tr>\n",
       "      <th>...</th>\n",
       "      <td>...</td>\n",
       "      <td>...</td>\n",
       "    </tr>\n",
       "    <tr>\n",
       "      <th>37241</th>\n",
       "      <td>let the janta decide not ulema clerics</td>\n",
       "      <td>0</td>\n",
       "    </tr>\n",
       "    <tr>\n",
       "      <th>37242</th>\n",
       "      <td>hona hai same with vaccination education insu...</td>\n",
       "      <td>0</td>\n",
       "    </tr>\n",
       "    <tr>\n",
       "      <th>37246</th>\n",
       "      <td>downvote karna tha par upvote hogaya</td>\n",
       "      <td>0</td>\n",
       "    </tr>\n",
       "    <tr>\n",
       "      <th>37247</th>\n",
       "      <td>haha nice</td>\n",
       "      <td>1</td>\n",
       "    </tr>\n",
       "    <tr>\n",
       "      <th>37248</th>\n",
       "      <td>facebook itself now working bjp’ cell</td>\n",
       "      <td>0</td>\n",
       "    </tr>\n",
       "  </tbody>\n",
       "</table>\n",
       "<p>32271 rows × 2 columns</p>\n",
       "</div>"
      ],
      "text/plain": [
       "                                           clean_comment  category\n",
       "0       family mormon have never tried explain them t...         1\n",
       "1      buddhism has very much lot compatible with chr...         1\n",
       "2      seriously don say thing first all they won get...        -1\n",
       "3      what you have learned yours and only yours wha...         0\n",
       "4      for your own benefit you may want read living ...         1\n",
       "...                                                  ...       ...\n",
       "37241            let the janta decide not ulema clerics          0\n",
       "37242   hona hai same with vaccination education insu...         0\n",
       "37246              downvote karna tha par upvote hogaya          0\n",
       "37247                                         haha nice          1\n",
       "37248             facebook itself now working bjp’ cell          0\n",
       "\n",
       "[32271 rows x 2 columns]"
      ]
     },
     "execution_count": 124,
     "metadata": {},
     "output_type": "execute_result"
    }
   ],
   "source": [
    "df[df['clean_comment'].apply(lambda x: x.endswith(' ') or x.startswith(' '))]"
   ]
  },
  {
   "cell_type": "code",
   "execution_count": 125,
   "id": "283f6188",
   "metadata": {},
   "outputs": [
    {
     "data": {
      "application/vnd.microsoft.datawrangler.viewer.v0+json": {
       "columns": [
        {
         "name": "index",
         "rawType": "int64",
         "type": "integer"
        },
        {
         "name": "clean_comment",
         "rawType": "object",
         "type": "string"
        },
        {
         "name": "category",
         "rawType": "int64",
         "type": "integer"
        }
       ],
       "ref": "07ee4fa4-5d89-4c3b-949c-8fc39b4779ae",
       "rows": [
        [
         "106",
         " pretty sure this sarcasm satire the news 15000 people saved stems from only one source toi article author anand soondas author with exclusive profile writing anti modi articles toi the last line the article giveaway asked about the new model rescue and relief operation modi that has helped 000 gujaratis get out uttarakhand angry congress legislator said see that what mean his model works only for gujaratis cms\n",
         "1"
        ],
        [
         "217",
         "lots streams this site vietnam arsenal html\n",
         "0"
        ],
        [
         "317",
         " the govt should have only one religion says the guy who cannot stop sticking his personal religion into public politics modi 2013 jpg\n",
         "0"
        ],
        [
         "448",
         "what missing jpg\nand why this brilliant edit this supposed from another game like hon lol what exactly that slark supposed dolphin ",
         "1"
        ],
        [
         "495",
         " you wondering whether girl will get through the approximate amount votes she needs least for now tend get more votes each day the minimum vote requirement goes but your favourite girl below votes things aren looking good for her\n",
         "1"
        ],
        [
         "536",
         " before used anti rss result anti bjp very skeptical towards aap thought jlp bill was silly drama used lean lot towards left but was not impressed their presence national stage thought other 3rd front parties are over ambitious clowns supported congress they appeared the best available option they are definitely not perfect but better than other options however must admit like most their purported aam admi initiatives you know the which will feed lazy people now still dislike rss vhp their ideology bjp fan boys their rabid bigotry scares don think modi evil too but very skeptical that would able control his masters fans sangha parviar cronies aap not bad very impressed how transparent they have kept their finances for that reason alone wish they will win elections delhi nothing has changed about left other 3rd front but then again you barely hear about them online anyway things seem would still with inc the best available option for the lok sabha\n",
         "1"
        ],
        [
         "608",
         " here proof that gujarat has flourished under narendra modi htm punjab kerala gujarat among most prosperous equitable states report punjab kerala gujarat among most prosperous equitable states report 371891 pfrom home topstories kapil sibal’ lies punctured point point note response\n",
         "1"
        ],
        [
         "773",
         "good initiative mock these annoying people please add blue background red font color logo created using wordart under construction gif new gif auto playing music rocky mittal banega narendar modi default font comic sans traffic meter\n",
         "1"
        ],
        [
         "781",
         " india has been ruined congress and populist schemes the problem with populist schemes that you can make noise you are opposition you instantly branded anti poor another problems once introduced not easy get rid them aap with share leftists and socialist like prashant bhushan yogendra yadav binayak sen etc are more towards congress ideology with added agenda anti corruption compared bjp want see some pro market reforms which will create jobs and get our country\nback growth rate another problem have the minority appeasement meeting tauqueer raza and then going defend him aap doing the same things\nthat congress did third holier than thou attitude they just don accept that there are good non corrupt people all parties lot people from\ncongress and bjp joined aap and suddenly became non corrupt while they were corrupt their old parties don hate aap don like their ideology and attitude would even vote there was option aap like party with right leaning\neconomic ideology afaik loksatta one such party but even though stay hyd don have vote here have vote native state ",
         "-1"
        ],
        [
         "847",
         " like aap for its stand corruption and making people aware about their civic duties and mobilizing youth take part active politics hate aap for its communist ideology public appeasement policies minority appeasement which are not very different from congress and for its arrogant and holier than thou attitude\nthey have build party showing negative points others its high time they show good governance forming government delhi and prove themselves fulfilling tall claims they have made ",
         "-1"
        ],
        [
         "871",
         " reduced trade\ndeficit stronger rupee aren the two basically the same thing ",
         "0"
        ],
        [
         "970",
         "more than the modi clan find this clan very prevalent india its not about who gets win the election for them its about spreading well rehearsed propaganda seems here the cheat sheet for that particular clan praise aap downvote blame aap upvote disguised praise about rss upvote rss with negative word the same sentence downvote\n",
         "1"
        ],
        [
         "1126",
         " been trying get more people watch these tapes always get downvoted are people genuinely willing turn blind eye all this mfntl fwvbo 7m15s akshay mehta later went member the nanavati commission charge probing the riots aspx artid 560918\n",
         "1"
        ],
        [
         "1286",
         "very detailed maps for quick reference pinpoint geographic timeline map 8th 27th march latest map web svg detailed route possibilities and projected final position with satelitte arcs way points and current serach field grids current 27th march cumulative amsa search area map pdf these were recently posted another thread but are some the best have seen\n",
         "1"
        ],
        [
         "1300",
         "video what conditions can like the southern indian ocean www youtube com watch jup6najp2mi\n",
         "0"
        ],
        [
         "1301",
         "here interesting tidbit what the like off perth have give the crews lot respect after reading this “ are very reliant lookouts who use binoculars and night vision devices scan the horizon and scan the area around our ship “ very cold rotate the lookouts through every hour ’’ hmas success and other ships remain searching for any debris from the missing plane despite bad weather forcing all planes postpone the hunt for debris www news com travel travel updates thai satellite spots 300 objects possibly part missing malaysia airlines flight mh370 story fnizu68q 1226865929215\n",
         "-1"
        ],
        [
         "1353",
         "someone previous thread put new pics the sphere that washed maldives phone can credit but looks like the fire suppression bottle word from 370 but could that linked the search area shift edit thanks conradaiken\n",
         "1"
        ],
        [
         "1354",
         "amsa press conference australian maritime safety authority emergency response general manager john young and australian transport safety bureau chief commissioner martin dolan attendance article will include video full press conference for the next half hour aspx full press statements young statement would like update you some credible information amsa has received from the atsb which will see the search area refocused today the amsa search for any sign the missing malaysia airlines flight mh370 has been shifted area north following advice from the australian transport safety bureau international air crash investigation team malaysia provided updated advice the atsb which has examined the information and determined area 1100 kilometres the north east the existing search area now the most credible lead where debris may located the new search area approximately 319 000 square kilometres about 1850 kilometres west perth the australian geospatial intelligence organisation tasking satellites capture images the new area weather conditions are better the revised area and ten aircraft have been tasked for today’ search they include two royal australian air force orions japanese coast guard gulfstream jet japanese orion republic korea orion republic korea c130 hercules royal new zealand air force orion chinese people’ liberation army air force ilyushin united states navy poseidon aircraft and one civil australian jet acting communications relay four the ten aircraft are overhead the search area with further six planes fly over the area today further raaf orion has been placed standby raaf base pearce investigate any reported sightings six ships are relocating the new search area including hmas success and five chinese ships chinese maritime safety administration msa patrol ship haixun the search area hmas success expected arrive the search area late tomorrow night towed pinger locator and bluefin autonomous underwater vehicle have arrived perth assist with location and recovery the black box the depth the water the search area between 2000 and 4000 metres these will fitted australian defence vessel ocean shield which will arrive western australia the coming days dolan the atsb australia’ transport investigation agency working with range other international\nexpert organisations analyse available data and determine the best area search the key pieces information being analysed relate early positional information from the aircraft and\nlater polling satellite aircraft system the new information based continuing analysis radar data between the south china sea and the\nstrait malacca before radar contact was lost indicated the plane was travelling faster than previously estimated resulting increased fuel usage\nand reducing the possible distance travelled south into the indian ocean the international investigative team supporting the search continues their analysis which could still\nresult further refinement the potential flight path this has been combined with information about the likely performance the aircraft—such speed\nand fuel consumption for example— arrive the best assessment the area which the aircraft likely have entered the water the information provided the international investigative team the most credible lead currently\nhave the search aircraft wreckage however this information needs continually adjusted for the length time elapsed since the\naircraft went missing and the likely drift any wreckage floating the ocean surface finally let stress that under international convention malaysia has investigative responsibility for\nmalaysia airlines flight mh370 this stage the atsb’ main task assist the search for the\naircraft this day the search for the aircraft… have drifted the area for days movement taking into account the actual weather and known currents atsb spokesman unsure what the actual speed was the assumption that the aircraft was travelling somewhat constant speed data from satellite polling and radar matches satellite imagery may may not objects and may not debris fields previous search areas have now been abandoned could debris wind scattered around the world depending who picks – under international convention remains the responsibility the country where the aircraft was registered any wreckage which picked will held for the malaysian investigative teams atsb operating behalf the malaysians any debris picked must handed over australian authorities new area will help get more aircraft scene for longer the other benefit the search area longer the roaring 40s – which means better weather conditions more often debris has been seen the old search areas does not want classify satellite and visual spots those areas debris that just not justifiable with what have seen adds that this kind thing not unusual this the normal business search and rescue operations the new area based refined data possible that further analysis may change that again what are you actually refining the relationship between 777 performance satellite pings and various projections versus that information trying find the right coincidence those and the end point when the aircraft runs out fuel all engines die together there are range scenarios you still believe the course changed several times the best assessment the aircraft headed south consistently into the indian ocean are you looking other leads from the malaysian investigation the two primary methods are the analyses the movement the aircraft that the best information can have satellite imagery being followed but has produced sightings sophisticated oceanographic modelling determine drifts recall please that this days after the event was expected happen over that days there’ significant amount random dispersion objects the search area gets significantly bigger over time data marker buoys are being distributed into new search area continue model drift and keep search area confined all data currently available has been made available the search ",
         "1"
        ],
        [
         "1663",
         "overall\nnda 340 ± upa ± others 133 ± bjp 291 ± congress ± source todays chanakya html ",
         "0"
        ],
        [
         "1713",
         "first things first 1219961 aspx\n",
         "1"
        ],
        [
         "1752",
         "where the healthy disrespect for authority which the foundation democracy have stumbled some rss fan page this what reddit like see dark clouds fatal\nnow let crouch into fetal position and wait for the blows ",
         "1"
        ],
        [
         "1882",
         "starting frei anibaba\nscott\ntraore\ngonzalez barrett\nalonso\npineda\npappa martins\ncooper",
         "0"
        ],
        [
         "1889",
         " unreasonably excited for this match hoping for two things first for the match not decided the ref second big home win let caps edit spelling\n",
         "1"
        ],
        [
         "2090",
         " don know how make meme but anyone watching this will understand pranab mai\nrahul mai aisa kyu mai aisa kyu ",
         "0"
        ],
        [
         "2390",
         "okay first off don agree with you your views remove your bigoted specs and look the world its grey nature and hindus are hardline muslims are though have question for muslim brothers want know why the islam religion war with literally all the religions wherever there religious unrest the world invariably between muslims and another religion india muslims hindus\nmyanmar muslims budhist\nafrica multiple locations are war between muslims christians and local tribes iraq muslims muslims post not incite hatred just want understand the root this conflict between islam and literally all the other religions ",
         "1"
        ],
        [
         "2487",
         " and kejriwal drama king\n",
         "0"
        ],
        [
         "2492",
         " hate that people think anything criminal seen loads videos thiefs rapists and other criminals beaten death not out self defense even your accident and the other person more injured they automatically start beating you what the fuck\nwho the fuck gave these people that right what the law system for angers that people behave such barbaric way other humans ",
         "-1"
        ],
        [
         "2629",
         "wow\namazing ",
         "1"
        ],
        [
         "2976",
         " like this guy maybe someday can replace\nchina with india ",
         "0"
        ],
        [
         "3006",
         " really babri kandhamahal happened pakistan furthermore his arguments are directed towards abrahamic religions since they follow central book however the dharmic religions india are not immune from religious dogmatism ram temple was destroyed babur and mosque was built top somnath temple was destroyed times mohammedans somnath temple destruction timeline gyanvapi temple jpg large whats wrong temples are rebuilt thief steals your money and you steal back are you also called thief notice how not even single muslim named how about people like abdul kalam azad again ties with their ideology dont know why abdul kalam azad being respected the muslim community these days\nback 1930 and was considered fringe element was ridiculed and accused being hindu poster boy and hindu agent etc etc edit for the marxist serpents that are lurking here can down vote all you want xxxx edit this was posted user factorialboy another thread hope this puts end this pointless debate here mere sample “sectarian” and “political” programs doordarshan telecast the past without much squeal from messrs guha and varadarajan – live telecast pope francis’ christmas message from vatican city 25th december 2013 – christian evangelical programming tamil channel podhigai – pope benedict’ mass december 2005 – islamic programs doordarshan sapthagiri – doordarshan srinagar stops telecast bible series objections muslims – nagaland baptist church platinum jubilee live doordarshan kohima 2012 – live coverage speeches sonia and rahul gandhi aicc session 2007 much more …… source guhas hypocrisy doordarshan 239880 html",
         "1"
        ],
        [
         "3202",
         "itt hot indian circle jerking while looking for western nod nod this again feeling proud whatever the context comparing china again really lol pathetic westerners prefer india over china really why think about why there has reason right does the average westerner have any reference india something made india some big headlines like huge projects huge trades influx tourists other than the cheaply dressed heavily accented brown slaves her office mean what about india that the average joe knows about and likes about can you think some largest democracy gtfo facts people are rather tired china seemingly hogging the headlines these days most people don know squat about india most them only rarely eat indian foods western governments leading the usa looks play india counterweight because things are there just way will frontal fuck with china that realpolitik the sandbox where the real big boys play india not this sandbox feel proud when people general think less the equality between your country and poverty when your athletes win some fucking medals other than cricket when the word toilet stops being associated with your country that being aussie high some shit probably indian hashish\n",
         "1"
        ],
        [
         "3325",
         " hell happens when\nthe evil this world exceeds our belief\nthat can conquer ‪‎peshawarattack‬\n",
         "-1"
        ],
        [
         "3370",
         "another user feels betrayed and wounded because the great chief modi4pm has misused his trust saar had much trust you upvoted every post yours believed every word you said laughed every joke yours defended every time some one suspected you sent threatening pms people went raving about you every one dug wiki articles prove how you were right everything when you were not making fun them suggested your name for presidentship modship thought you were best thing happen humanity since jesus complaints are lengthy and many but the feeling betrayal broken promises bleeding heart wounded animal only once did trust someone and was you the greatest trust the one pose strangers because they don know and hence won judge why chief why why did you this right now lie low snakes belly don want live any more hahaahahahaha this some funny shit that good recap ping pon\n",
         "1"
        ],
        [
         "3384",
         "step throw things like common sense shame morality etc out the window and say something really controversial step watch people going ape shit and politicians putting tadka the shit you just brewed step get invited arnab chorswami nautanki step apologise step step profit\n",
         "-1"
        ],
        [
         "3450",
         " think when comes general religiosity and adherence holy books hindus are fairly low down the order nobody here gonna defend dogmatists within the hindu religion the examples you cite are not really clear cut the ritual probably not encouraged today context but back then was simply not rape had child marriages the only form marriage the past but have moved from that and now consider social evil wrong right not absolute and has seen context also regarding the tamil novel you simply don know what you are talking about the problem more related casteism and libel than free speech now not suggesting free speech not factor this case but means the only factor lastly lot people criticize today islam because the literalist manner practiced lot people very regressive and outmoded belief system reformers within the community should ideally step forward but they are silenced via the religion itself non muslims affected will only naturally end criticizing then least they aren inhibited notice how similar criticisms are not made for any other religion also this means just indian phenomenonh\n",
         "1"
        ],
        [
         "3484",
         " you are using res reddit enhancement suite there editing row editing buttons above your comment box that the last button mesh icon click that foo bar text foo bar text\ntext text text\ntext text text\ntext text text something like this will appear replace the placeholder text with your own ",
         "1"
        ],
        [
         "3504",
         "self promotion\n",
         "0"
        ],
        [
         "3864",
         " voter says seats aap\n",
         "0"
        ],
        [
         "3900",
         "welp today chanakya · minutes ago\ntcexitpoll seat projection party seats margin aap ± bjp ± congress ± others ± edit formatted table and removed the eyesore bold letters",
         "1"
        ],
        [
         "3919",
         "age breakup above years\nbjp aap congress ",
         "0"
        ],
        [
         "3955",
         "close fight between bjp and congress edit they say about shehr dilli bakadra hosh har eik yahaan ranj miltaa hai sukoon rehte hain yahaan sirf deewane\n",
         "0"
        ],
        [
         "3969",
         "\ncheck this image and check voting share legend even has given aap tripe aaa rating ",
         "0"
        ],
        [
         "4152",
         " f50tzhmcbue\n",
         "0"
        ],
        [
         "4184",
         "too much dependence people from iit and iim career trainer teach freelancer all across india the thing noticed most polytechnic students are way better than most engineering students india\neven though iit and iim students are not that much different intellectual ability than most indian student they gain lot having access resources most not have plus corporate leaders tend give more weight the brand value than actual results most iit students are now working managerial level counter this the economy need opened allow more companies set this will give ripple effect getting more core jobs graduates indian education system has crossed the line where serious revamp the entire system needed for the last years the sector has given limited impetus the growth story relying foreign nationalities help set corporate india true there are people who have challenged the system and made the nation proud but considering the potential the great nation the numbers who swim against the tide remains abysmally low its high time that the entire sector changed course can create and nurture potentials where stand now unfortunately the present higher education sector india like roulette wheel hard escape from its clutches but you are one the lucky ones you hit the jackpot favors less talent but creates populace that again studies and henceforth become teachers again the system the system solely existing make reason for the system exist the first place pure science streams have eroded itself that level where the sole existence subjects like zoology and applied chemistry and physics now create teachers rather than aspiring scientists the situation worse engineering streams where almost the graduates are unemployable any industry fortunately streams like english communication and and literature they have wide variety jobs that they are qualified for but its the sad truth that rarely their field learning policy documents and vision initiatives should used hardcore road map that can used predict and shape the future sector its highly important that eduction sector has clear view its role developing nation because ultimately each and every measurement growth country irrevocably depended the educated resource the same nation policy guidelines syllabus the strength any university its alumni the success the alumni the professional world directly linked the value that the university can impart its undergraduate and graduate training programs the syllabus these programs must written the alumni the benefit that the university gets real time feedback current industry needs and what might require the future this gives chance for the university provide skill development which valued and appreciated the industry obsolete technology still being taught colleges across india likelihood its use apocalypse this thought process must uprooted once the basic skills have been thought industry standard technology must imparted and studied detail otherwise industry will have take pain retraining new employees which puts the company backward trajectory economic sense present syllabus being created and modified people who used work the industry this needs stopped the alumni the most powerful organization that the university can trust blindingly alumni must involved each and every process the working the university helps the long run keep gold standard thesis works numerous shady companies have cropped which does for fee final year projects and thesis works students flock these organizations they can receive the final product with money rather than true effort this has curbed original thesis work should appreciated and awarded relevant training technologies can mitigate lack confidence students and help inspire original thought processes students must benefit from technological prowess available and competent guides who can guide them rote learning should avoided and learning should imparted seminar style topics must thought drill the concepts initially and then promote self learning through self made experiments and research most universities multi disciplinary research and thesis works are not allowed noted that the boundaries study subjects are blurry line and most topics overlap each other students and graduate research fellows must given the flexibility research multidisciplinary topics rather than stay within well defined dark boundary engagement programs universities must have the potential leverage industrial experts take talks relevant topics least twice trice week that can conveniently held after class hours not disturb regular discussion instruction hours the benefit this method many students benefit from actual industry working knowledge and multiple topics can covered during the same bell curve grading grading must bell curve that shows students and learning associates where they stand relation the rest the class rather than blatant pass fail grade that provide information service provider questions must engaging ones that simulate the critical thinking faculties the ward dissuade students from rote learning methods like open book learning and sheets with formulas and data values must provided the advantage such system that students will forced learn the concepts and move beyond industry real life are workers forced recall mundane equations and data values even its emergency situation critical failure component factory equations not help there experience and wisdom helps that achieved and made logical thinking processes usage technological tools for better learning are lucky live age where all information can easily accessed anywhere the entire wealth human knowledge now available through the power the internet hard paper back textbooks must shunned away and replaced internet resources and line well off line discussion groups periodic test and assessment should done and evaluated using line tools that can exactly pinpoint parts sections that particular student must concentrate this also helps minute tracking the learning process and make sure individual attention can given for certain students certain topics language proficiency this the most important and relevant need students and faculty must highly proficient english language now the facto standard for communication across the world has needed given more preference than regular topics communication standards for students across india abysmal its best english language learning must given golden place among primary learning centers and undergraduate schools our researchers and graduates suffer lot due their lack proficiency which immediately closes lot doors significant effort need overhaul the higher education sector india the usage relevant tools and methodologies must taken haste hasten development the national skill set copying blindly the process nations that may may not relevant and suitable our conditions may more harm than good but imperative the change and development has happen time already past make the changes rapid overhauling with vision the only hope make india leader highly competitive world ",
         "1"
        ],
        [
         "4248",
         "everyboday partayyyyy bring the beer\n",
         "0"
        ],
        [
         "4261",
         "\nnow will not jailed calling stupid politicians idiot ",
         "-1"
        ],
        [
         "4272",
         "hell yea time change flair\n",
         "0"
        ],
        [
         "4345",
         "plan ameerikaaaaa\nplan dope",
         "0"
        ],
        [
         "4357",
         "\nrahul gandhi was ridiculed when said this couple years ago ",
         "0"
        ],
        [
         "4416",
         "hajji\n",
         "0"
        ]
       ],
       "shape": {
        "columns": 2,
        "rows": 479
       }
      },
      "text/html": [
       "<div>\n",
       "<style scoped>\n",
       "    .dataframe tbody tr th:only-of-type {\n",
       "        vertical-align: middle;\n",
       "    }\n",
       "\n",
       "    .dataframe tbody tr th {\n",
       "        vertical-align: top;\n",
       "    }\n",
       "\n",
       "    .dataframe thead th {\n",
       "        text-align: right;\n",
       "    }\n",
       "</style>\n",
       "<table border=\"1\" class=\"dataframe\">\n",
       "  <thead>\n",
       "    <tr style=\"text-align: right;\">\n",
       "      <th></th>\n",
       "      <th>clean_comment</th>\n",
       "      <th>category</th>\n",
       "    </tr>\n",
       "  </thead>\n",
       "  <tbody>\n",
       "    <tr>\n",
       "      <th>106</th>\n",
       "      <td>pretty sure this sarcasm satire the news 1500...</td>\n",
       "      <td>1</td>\n",
       "    </tr>\n",
       "    <tr>\n",
       "      <th>217</th>\n",
       "      <td>lots streams this site vietnam arsenal html\\n</td>\n",
       "      <td>0</td>\n",
       "    </tr>\n",
       "    <tr>\n",
       "      <th>317</th>\n",
       "      <td>the govt should have only one religion says t...</td>\n",
       "      <td>0</td>\n",
       "    </tr>\n",
       "    <tr>\n",
       "      <th>448</th>\n",
       "      <td>what missing jpg\\nand why this brilliant edit ...</td>\n",
       "      <td>1</td>\n",
       "    </tr>\n",
       "    <tr>\n",
       "      <th>495</th>\n",
       "      <td>you wondering whether girl will get through t...</td>\n",
       "      <td>1</td>\n",
       "    </tr>\n",
       "    <tr>\n",
       "      <th>...</th>\n",
       "      <td>...</td>\n",
       "      <td>...</td>\n",
       "    </tr>\n",
       "    <tr>\n",
       "      <th>36687</th>\n",
       "      <td>for all the blinkers like was the target audie...</td>\n",
       "      <td>1</td>\n",
       "    </tr>\n",
       "    <tr>\n",
       "      <th>36919</th>\n",
       "      <td>y6sg1xuovbb0czfwjpug0h html\\nfull credit anti...</td>\n",
       "      <td>1</td>\n",
       "    </tr>\n",
       "    <tr>\n",
       "      <th>36933</th>\n",
       "      <td>can the same applied reddit and randimods remo...</td>\n",
       "      <td>0</td>\n",
       "    </tr>\n",
       "    <tr>\n",
       "      <th>37048</th>\n",
       "      <td>well isn that nice see looks really good our j...</td>\n",
       "      <td>1</td>\n",
       "    </tr>\n",
       "    <tr>\n",
       "      <th>37082</th>\n",
       "      <td>uhhh that buzz aldrin also clearly says united...</td>\n",
       "      <td>1</td>\n",
       "    </tr>\n",
       "  </tbody>\n",
       "</table>\n",
       "<p>479 rows × 2 columns</p>\n",
       "</div>"
      ],
      "text/plain": [
       "                                           clean_comment  category\n",
       "106     pretty sure this sarcasm satire the news 1500...         1\n",
       "217        lots streams this site vietnam arsenal html\\n         0\n",
       "317     the govt should have only one religion says t...         0\n",
       "448    what missing jpg\\nand why this brilliant edit ...         1\n",
       "495     you wondering whether girl will get through t...         1\n",
       "...                                                  ...       ...\n",
       "36687  for all the blinkers like was the target audie...         1\n",
       "36919   y6sg1xuovbb0czfwjpug0h html\\nfull credit anti...         1\n",
       "36933  can the same applied reddit and randimods remo...         0\n",
       "37048  well isn that nice see looks really good our j...         1\n",
       "37082  uhhh that buzz aldrin also clearly says united...         1\n",
       "\n",
       "[479 rows x 2 columns]"
      ]
     },
     "execution_count": 125,
     "metadata": {},
     "output_type": "execute_result"
    }
   ],
   "source": [
    "comments_with_newlinw = df[df['clean_comment'].str.contains('\\n')]\n",
    "comments_with_newlinw"
   ]
  },
  {
   "cell_type": "code",
   "execution_count": 126,
   "id": "1b6db234",
   "metadata": {},
   "outputs": [],
   "source": [
    "df['clean_comment'] = df['clean_comment'].str.replace('\\n',' ',regex=True)"
   ]
  },
  {
   "cell_type": "code",
   "execution_count": 127,
   "id": "4a1a3206",
   "metadata": {},
   "outputs": [],
   "source": [
    "comments_with_newlinw_reamining = df[df['clean_comment'].str.contains('\\n')]\n"
   ]
  },
  {
   "cell_type": "markdown",
   "id": "439cc246",
   "metadata": {},
   "source": [
    "EDA"
   ]
  },
  {
   "cell_type": "code",
   "execution_count": 128,
   "id": "6a7157bd",
   "metadata": {},
   "outputs": [],
   "source": [
    "import seaborn as sns \n",
    "import matplotlib.pyplot as plt"
   ]
  },
  {
   "cell_type": "code",
   "execution_count": 129,
   "id": "1a915b58",
   "metadata": {},
   "outputs": [
    {
     "data": {
      "text/plain": [
       "<Axes: xlabel='category', ylabel='count'>"
      ]
     },
     "execution_count": 129,
     "metadata": {},
     "output_type": "execute_result"
    },
    {
     "data": {
      "image/png": "[encoded data removed]",
      "text/plain": [
       "<Figure size 640x480 with 1 Axes>"
      ]
     },
     "metadata": {},
     "output_type": "display_data"
    }
   ],
   "source": [
    "sns.countplot(data=df,x=\"category\")"
   ]
  },
  {
   "cell_type": "code",
   "execution_count": 130,
   "id": "cfb7e601",
   "metadata": {},
   "outputs": [
    {
     "data": {
      "application/vnd.microsoft.datawrangler.viewer.v0+json": {
       "columns": [
        {
         "name": "category",
         "rawType": "int64",
         "type": "integer"
        },
        {
         "name": "proportion",
         "rawType": "float64",
         "type": "float"
        }
       ],
       "ref": "1b0fe24e-cacd-4c4c-aad3-8bcc59c5b90d",
       "rows": [
        [
         "1",
         "42.86"
        ],
        [
         "0",
         "34.72"
        ],
        [
         "-1",
         "22.42"
        ]
       ],
       "shape": {
        "columns": 1,
        "rows": 3
       }
      },
      "text/plain": [
       "category\n",
       " 1    42.86\n",
       " 0    34.72\n",
       "-1    22.42\n",
       "Name: proportion, dtype: float64"
      ]
     },
     "execution_count": 130,
     "metadata": {},
     "output_type": "execute_result"
    }
   ],
   "source": [
    "df['category'].value_counts(normalize=True).mul(100).round(2)"
   ]
  },
  {
   "cell_type": "code",
   "execution_count": 131,
   "id": "06bd93c9",
   "metadata": {},
   "outputs": [],
   "source": [
    "df['word_count']=df['clean_comment'].apply(lambda x: len(x.split()))"
   ]
  },
  {
   "cell_type": "code",
   "execution_count": 132,
   "id": "c09a02bc",
   "metadata": {},
   "outputs": [
    {
     "data": {
      "application/vnd.microsoft.datawrangler.viewer.v0+json": {
       "columns": [
        {
         "name": "index",
         "rawType": "int64",
         "type": "integer"
        },
        {
         "name": "clean_comment",
         "rawType": "object",
         "type": "string"
        },
        {
         "name": "category",
         "rawType": "int64",
         "type": "integer"
        },
        {
         "name": "word_count",
         "rawType": "int64",
         "type": "integer"
        }
       ],
       "ref": "b51ee57c-8277-48da-874a-8af2c2a32de8",
       "rows": [
        [
         "36654",
         "anti modi anti india that what this sub has become ",
         "0",
         "10"
        ],
        [
         "4622",
         "white areas are regions frequent cloudiness dark areas are frequently cloud free few things about earth climate are immediately obvious lots cloudiness along the equator earth intertropical convergence zone itcz all the extra sunlight creates warm temperatures and general rising motion leading cloud formation the air rises significant drop cloudiness degrees latitude the called horse latitudes all the air that was rising the itcz gave its moisture clouds there and has back come down somewhere this causes general descending dry air the horse latitudes which why there are lots deserts those latitudes the southern jet stream doesn have much stop other than the speed bumps new zealand and tierra del fuego this tends isolate antarctica from the rest the climate making very cold and very dry which why antarctica the largest desert the world ",
         "1",
         "134"
        ],
        [
         "35267",
         "that little jiggle the end",
         "-1",
         "5"
        ],
        [
         "9060",
         "shit this needs sticky ",
         "-1",
         "4"
        ],
        [
         "34412",
         "time takes full turn",
         "1",
         "4"
        ]
       ],
       "shape": {
        "columns": 3,
        "rows": 5
       }
      },
      "text/html": [
       "<div>\n",
       "<style scoped>\n",
       "    .dataframe tbody tr th:only-of-type {\n",
       "        vertical-align: middle;\n",
       "    }\n",
       "\n",
       "    .dataframe tbody tr th {\n",
       "        vertical-align: top;\n",
       "    }\n",
       "\n",
       "    .dataframe thead th {\n",
       "        text-align: right;\n",
       "    }\n",
       "</style>\n",
       "<table border=\"1\" class=\"dataframe\">\n",
       "  <thead>\n",
       "    <tr style=\"text-align: right;\">\n",
       "      <th></th>\n",
       "      <th>clean_comment</th>\n",
       "      <th>category</th>\n",
       "      <th>word_count</th>\n",
       "    </tr>\n",
       "  </thead>\n",
       "  <tbody>\n",
       "    <tr>\n",
       "      <th>36654</th>\n",
       "      <td>anti modi anti india that what this sub has be...</td>\n",
       "      <td>0</td>\n",
       "      <td>10</td>\n",
       "    </tr>\n",
       "    <tr>\n",
       "      <th>4622</th>\n",
       "      <td>white areas are regions frequent cloudiness da...</td>\n",
       "      <td>1</td>\n",
       "      <td>134</td>\n",
       "    </tr>\n",
       "    <tr>\n",
       "      <th>35267</th>\n",
       "      <td>that little jiggle the end</td>\n",
       "      <td>-1</td>\n",
       "      <td>5</td>\n",
       "    </tr>\n",
       "    <tr>\n",
       "      <th>9060</th>\n",
       "      <td>shit this needs sticky</td>\n",
       "      <td>-1</td>\n",
       "      <td>4</td>\n",
       "    </tr>\n",
       "    <tr>\n",
       "      <th>34412</th>\n",
       "      <td>time takes full turn</td>\n",
       "      <td>1</td>\n",
       "      <td>4</td>\n",
       "    </tr>\n",
       "  </tbody>\n",
       "</table>\n",
       "</div>"
      ],
      "text/plain": [
       "                                           clean_comment  category  word_count\n",
       "36654  anti modi anti india that what this sub has be...         0          10\n",
       "4622   white areas are regions frequent cloudiness da...         1         134\n",
       "35267                         that little jiggle the end        -1           5\n",
       "9060                             shit this needs sticky         -1           4\n",
       "34412                               time takes full turn         1           4"
      ]
     },
     "execution_count": 132,
     "metadata": {},
     "output_type": "execute_result"
    }
   ],
   "source": [
    "df.sample(5)"
   ]
  },
  {
   "cell_type": "code",
   "execution_count": 133,
   "id": "96fa9935",
   "metadata": {},
   "outputs": [
    {
     "data": {
      "application/vnd.microsoft.datawrangler.viewer.v0+json": {
       "columns": [
        {
         "name": "index",
         "rawType": "object",
         "type": "string"
        },
        {
         "name": "word_count",
         "rawType": "float64",
         "type": "float"
        }
       ],
       "ref": "43a0d8da-2398-47eb-b8bb-44a3b528db33",
       "rows": [
        [
         "count",
         "36799.0"
        ],
        [
         "mean",
         "29.66262670181255"
        ],
        [
         "std",
         "56.787371367078755"
        ],
        [
         "min",
         "0.0"
        ],
        [
         "25%",
         "6.0"
        ],
        [
         "50%",
         "13.0"
        ],
        [
         "75%",
         "30.0"
        ],
        [
         "max",
         "1307.0"
        ]
       ],
       "shape": {
        "columns": 1,
        "rows": 8
       }
      },
      "text/plain": [
       "count    36799.000000\n",
       "mean        29.662627\n",
       "std         56.787371\n",
       "min          0.000000\n",
       "25%          6.000000\n",
       "50%         13.000000\n",
       "75%         30.000000\n",
       "max       1307.000000\n",
       "Name: word_count, dtype: float64"
      ]
     },
     "execution_count": 133,
     "metadata": {},
     "output_type": "execute_result"
    }
   ],
   "source": [
    "df['word_count'].describe()"
   ]
  },
  {
   "cell_type": "code",
   "execution_count": 134,
   "id": "0e3864c5",
   "metadata": {},
   "outputs": [
    {
     "data": {
      "text/plain": [
       "<seaborn.axisgrid.FacetGrid at 0x255d8a88f50>"
      ]
     },
     "execution_count": 134,
     "metadata": {},
     "output_type": "execute_result"
    },
    {
     "data": {
      "image/png": "[encoded data removed]",
      "text/plain": [
       "<Figure size 500x500 with 1 Axes>"
      ]
     },
     "metadata": {},
     "output_type": "display_data"
    }
   ],
   "source": [
    "sns.displot(df['word_count'],kde=True)"
   ]
  },
  {
   "cell_type": "code",
   "execution_count": 135,
   "id": "4ae5cf7c",
   "metadata": {},
   "outputs": [
    {
     "data": {
      "image/png": "[encoded data removed]",
      "text/plain": [
       "<Figure size 1000x600 with 1 Axes>"
      ]
     },
     "metadata": {},
     "output_type": "display_data"
    }
   ],
   "source": [
    "# Create the figure and axes\n",
    "plt.figure(figsize=(10, 6))\n",
    "\n",
    "# Plot KDE for category 1\n",
    "sns.kdeplot(df[df['category'] == 1]['word_count'], label='Positive', fill=True)\n",
    "\n",
    "# Plot KDE for category 0\n",
    "sns.kdeplot(df[df['category'] == 0]['word_count'], label='Neutral', fill=True)\n",
    "\n",
    "# Plot KDE for category -1\n",
    "sns.kdeplot(df[df['category'] == -1]['word_count'], label='Negative', fill=True)\n",
    "\n",
    "# Add title and labels\n",
    "plt.title('Word Count Distribution by Category')\n",
    "plt.xlabel('Word Count')\n",
    "plt.ylabel('Density')\n",
    "\n",
    "# Add a legend\n",
    "plt.legend()\n",
    "\n",
    "# Show the plot\n",
    "plt.show()\n",
    "     \n"
   ]
  },
  {
   "cell_type": "code",
   "execution_count": 136,
   "id": "b84c1413",
   "metadata": {},
   "outputs": [
    {
     "data": {
      "text/plain": [
       "<Axes: ylabel='word_count'>"
      ]
     },
     "execution_count": 136,
     "metadata": {},
     "output_type": "execute_result"
    },
    {
     "data": {
      "image/png": "[encoded data removed]",
      "text/plain": [
       "<Figure size 640x480 with 1 Axes>"
      ]
     },
     "metadata": {},
     "output_type": "display_data"
    }
   ],
   "source": [
    "sns.boxplot(df['word_count'])"
   ]
  },
  {
   "cell_type": "code",
   "execution_count": 137,
   "id": "c9dc1708",
   "metadata": {},
   "outputs": [
    {
     "data": {
      "image/png": "[encoded data removed]",
      "text/plain": [
       "<Figure size 1000x600 with 1 Axes>"
      ]
     },
     "metadata": {},
     "output_type": "display_data"
    }
   ],
   "source": [
    "\n",
    "# Create a boxplot for the 'wordcount' column categorized by 'category'\n",
    "plt.figure(figsize=(10, 6))\n",
    "sns.boxplot(data=df, x='category', y='word_count')\n",
    "plt.title('Boxplot of Word Count by Category')\n",
    "plt.xlabel('Category')\n",
    "plt.ylabel('Word Count')\n",
    "plt.show()\n",
    "     "
   ]
  },
  {
   "cell_type": "code",
   "execution_count": 138,
   "id": "8e114a13",
   "metadata": {},
   "outputs": [
    {
     "data": {
      "image/png": "[encoded data removed]",
      "text/plain": [
       "<Figure size 1000x600 with 1 Axes>"
      ]
     },
     "metadata": {},
     "output_type": "display_data"
    }
   ],
   "source": [
    "\n",
    "# Create a scatterplot between 'category' and 'wordcount'\n",
    "plt.figure(figsize=(10, 6))\n",
    "sns.scatterplot(data=df, x='category', y='word_count', alpha=0.5)\n",
    "plt.title('Scatterplot of Word Count by Category')\n",
    "plt.xlabel('Category')\n",
    "plt.ylabel('Word Count')\n",
    "plt.show()\n",
    "     \n"
   ]
  },
  {
   "cell_type": "code",
   "execution_count": 139,
   "id": "ab5831d0",
   "metadata": {},
   "outputs": [
    {
     "data": {
      "text/plain": [
       "<Axes: xlabel='category', ylabel='word_count'>"
      ]
     },
     "execution_count": 139,
     "metadata": {},
     "output_type": "execute_result"
    },
    {
     "data": {
      "image/png": "[encoded data removed]",
      "text/plain": [
       "<Figure size 640x480 with 1 Axes>"
      ]
     },
     "metadata": {},
     "output_type": "display_data"
    }
   ],
   "source": [
    "# median word counts among sentiments\n",
    "\n",
    "sns.barplot(df,x='category',y='word_count',estimator='median')"
   ]
  },
  {
   "cell_type": "code",
   "execution_count": 141,
   "id": "22a1b805",
   "metadata": {},
   "outputs": [
    {
     "name": "stderr",
     "output_type": "stream",
     "text": [
      "[nltk_data] Downloading package stopwords to\n",
      "[nltk_data]     C:\\Users\\gaura\\AppData\\Roaming\\nltk_data...\n",
      "[nltk_data]   Unzipping corpora\\stopwords.zip.\n"
     ]
    },
    {
     "data": {
      "text/plain": [
       "True"
      ]
     },
     "execution_count": 141,
     "metadata": {},
     "output_type": "execute_result"
    }
   ],
   "source": [
    "import nltk \n",
    "from nltk.corpus import stopwords\n",
    "nltk.download('stopwords')"
   ]
  },
  {
   "cell_type": "code",
   "execution_count": 142,
   "id": "e1a837c3",
   "metadata": {},
   "outputs": [],
   "source": [
    "stop_words = set(stopwords.words('english'))"
   ]
  },
  {
   "cell_type": "code",
   "execution_count": 143,
   "id": "b6ace826",
   "metadata": {},
   "outputs": [],
   "source": [
    "df['num_stop_words'] = df['clean_comment'].apply(lambda x: len([word for word in x.split() if word in stop_words]))"
   ]
  },
  {
   "cell_type": "code",
   "execution_count": 144,
   "id": "e8bc8999",
   "metadata": {},
   "outputs": [
    {
     "data": {
      "application/vnd.microsoft.datawrangler.viewer.v0+json": {
       "columns": [
        {
         "name": "index",
         "rawType": "int64",
         "type": "integer"
        },
        {
         "name": "clean_comment",
         "rawType": "object",
         "type": "string"
        },
        {
         "name": "category",
         "rawType": "int64",
         "type": "integer"
        },
        {
         "name": "word_count",
         "rawType": "int64",
         "type": "integer"
        },
        {
         "name": "num_stop_words",
         "rawType": "int64",
         "type": "integer"
        }
       ],
       "ref": "c777815a-932d-49e0-b595-a7ff94274ea7",
       "rows": [
        [
         "18743",
         "good one with the angela merkel fuhrer germany bit ",
         "1",
         "9",
         "2"
        ],
        [
         "11407",
         "hahahahha ",
         "0",
         "1",
         "0"
        ],
        [
         "6644",
         "when you say fuck bjp what kind sex you have your mind ",
         "1",
         "12",
         "6"
        ],
        [
         "32330",
         "try teach english online english restrict instead let know you decide this and how goes wish you well ",
         "0",
         "18",
         "5"
        ],
        [
         "36060",
         "don’ vote vote right not duty",
         "1",
         "6",
         "1"
        ]
       ],
       "shape": {
        "columns": 4,
        "rows": 5
       }
      },
      "text/html": [
       "<div>\n",
       "<style scoped>\n",
       "    .dataframe tbody tr th:only-of-type {\n",
       "        vertical-align: middle;\n",
       "    }\n",
       "\n",
       "    .dataframe tbody tr th {\n",
       "        vertical-align: top;\n",
       "    }\n",
       "\n",
       "    .dataframe thead th {\n",
       "        text-align: right;\n",
       "    }\n",
       "</style>\n",
       "<table border=\"1\" class=\"dataframe\">\n",
       "  <thead>\n",
       "    <tr style=\"text-align: right;\">\n",
       "      <th></th>\n",
       "      <th>clean_comment</th>\n",
       "      <th>category</th>\n",
       "      <th>word_count</th>\n",
       "      <th>num_stop_words</th>\n",
       "    </tr>\n",
       "  </thead>\n",
       "  <tbody>\n",
       "    <tr>\n",
       "      <th>18743</th>\n",
       "      <td>good one with the angela merkel fuhrer germany...</td>\n",
       "      <td>1</td>\n",
       "      <td>9</td>\n",
       "      <td>2</td>\n",
       "    </tr>\n",
       "    <tr>\n",
       "      <th>11407</th>\n",
       "      <td>hahahahha</td>\n",
       "      <td>0</td>\n",
       "      <td>1</td>\n",
       "      <td>0</td>\n",
       "    </tr>\n",
       "    <tr>\n",
       "      <th>6644</th>\n",
       "      <td>when you say fuck bjp what kind sex you have y...</td>\n",
       "      <td>1</td>\n",
       "      <td>12</td>\n",
       "      <td>6</td>\n",
       "    </tr>\n",
       "    <tr>\n",
       "      <th>32330</th>\n",
       "      <td>try teach english online english restrict inst...</td>\n",
       "      <td>0</td>\n",
       "      <td>18</td>\n",
       "      <td>5</td>\n",
       "    </tr>\n",
       "    <tr>\n",
       "      <th>36060</th>\n",
       "      <td>don’ vote vote right not duty</td>\n",
       "      <td>1</td>\n",
       "      <td>6</td>\n",
       "      <td>1</td>\n",
       "    </tr>\n",
       "  </tbody>\n",
       "</table>\n",
       "</div>"
      ],
      "text/plain": [
       "                                           clean_comment  category  \\\n",
       "18743  good one with the angela merkel fuhrer germany...         1   \n",
       "11407                                         hahahahha          0   \n",
       "6644   when you say fuck bjp what kind sex you have y...         1   \n",
       "32330  try teach english online english restrict inst...         0   \n",
       "36060                      don’ vote vote right not duty         1   \n",
       "\n",
       "       word_count  num_stop_words  \n",
       "18743           9               2  \n",
       "11407           1               0  \n",
       "6644           12               6  \n",
       "32330          18               5  \n",
       "36060           6               1  "
      ]
     },
     "execution_count": 144,
     "metadata": {},
     "output_type": "execute_result"
    }
   ],
   "source": [
    "df.sample(5)"
   ]
  },
  {
   "cell_type": "code",
   "execution_count": 145,
   "id": "4a4a430c",
   "metadata": {},
   "outputs": [
    {
     "data": {
      "image/png": "[encoded data removed]",
      "text/plain": [
       "<Figure size 1000x600 with 1 Axes>"
      ]
     },
     "metadata": {},
     "output_type": "display_data"
    }
   ],
   "source": [
    "# Create a distribution plot (displot) for the 'num_stop_words' column\n",
    "plt.figure(figsize=(10, 6))\n",
    "sns.histplot(df['num_stop_words'], kde=True)\n",
    "plt.title('Distribution of Stop Word Count in Comments')\n",
    "plt.xlabel('Number of Stop Words')\n",
    "plt.ylabel('Frequency')\n",
    "plt.show()\n",
    "\n",
    "     "
   ]
  },
  {
   "cell_type": "code",
   "execution_count": 146,
   "id": "43fbb869",
   "metadata": {},
   "outputs": [
    {
     "data": {
      "image/png": "[encoded data removed]",
      "text/plain": [
       "<Figure size 1000x600 with 1 Axes>"
      ]
     },
     "metadata": {},
     "output_type": "display_data"
    }
   ],
   "source": [
    "\n",
    "# Create the figure and axes\n",
    "plt.figure(figsize=(10, 6))\n",
    "\n",
    "# Plot KDE for category 1\n",
    "sns.kdeplot(df[df['category'] == 1]['num_stop_words'], label='Positive', fill=True)\n",
    "\n",
    "# Plot KDE for category 0\n",
    "sns.kdeplot(df[df['category'] == 0]['num_stop_words'], label='Neutral', fill=True)\n",
    "\n",
    "# Plot KDE for category -1\n",
    "sns.kdeplot(df[df['category'] == -1]['num_stop_words'], label='Negative', fill=True)\n",
    "\n",
    "# Add title and labels\n",
    "plt.title('Num stop words Distribution by Category')\n",
    "plt.xlabel('Stop word count')\n",
    "plt.ylabel('Density')\n",
    "\n",
    "# Add a legend\n",
    "plt.legend()\n",
    "\n",
    "# Show the plot\n",
    "plt.show()"
   ]
  },
  {
   "cell_type": "code",
   "execution_count": 147,
   "id": "ebbf1683",
   "metadata": {},
   "outputs": [
    {
     "data": {
      "text/plain": [
       "<Axes: xlabel='category', ylabel='num_stop_words'>"
      ]
     },
     "execution_count": 147,
     "metadata": {},
     "output_type": "execute_result"
    },
    {
     "data": {
      "image/png": "[encoded data removed]",
      "text/plain": [
       "<Figure size 640x480 with 1 Axes>"
      ]
     },
     "metadata": {},
     "output_type": "display_data"
    }
   ],
   "source": [
    "# median word counts among sentiments\n",
    "\n",
    "sns.barplot(df,x='category',y='num_stop_words',estimator='median')"
   ]
  },
  {
   "cell_type": "code",
   "execution_count": 148,
   "id": "1f5883ec",
   "metadata": {},
   "outputs": [
    {
     "name": "stderr",
     "output_type": "stream",
     "text": [
      "C:\\Users\\gaura\\AppData\\Local\\Temp\\ipykernel_29348\\101498387.py:15: FutureWarning: \n",
      "\n",
      "Passing `palette` without assigning `hue` is deprecated and will be removed in v0.14.0. Assign the `y` variable to `hue` and set `legend=False` for the same effect.\n",
      "\n",
      "  sns.barplot(data=top_25_df, x='count', y='stop_word', palette='viridis')\n"
     ]
    },
    {
     "data": {
      "image/png": "[encoded data removed]",
      "text/plain": [
       "<Figure size 1200x800 with 1 Axes>"
      ]
     },
     "metadata": {},
     "output_type": "display_data"
    }
   ],
   "source": [
    "# Create a frequency distribution of stop words in the 'clean_comment' column\n",
    "from collections import Counter\n",
    "\n",
    "# Extract all stop words from the comments using the previously defined 'common_stopwords'\n",
    "all_stop_words = [word for comment in df['clean_comment'] for word in comment.split() if word in stop_words]\n",
    "\n",
    "# Count the most common stop words\n",
    "most_common_stop_words = Counter(all_stop_words).most_common(25)\n",
    "\n",
    "# Convert the most common stop words to a DataFrame for plotting\n",
    "top_25_df = pd.DataFrame(most_common_stop_words, columns=['stop_word', 'count'])\n",
    "\n",
    "# Create the barplot for the top 25 most common stop words\n",
    "plt.figure(figsize=(12, 8))\n",
    "sns.barplot(data=top_25_df, x='count', y='stop_word', palette='viridis')\n",
    "plt.title('Top 25 Most Common Stop Words')\n",
    "plt.xlabel('Count')\n",
    "plt.ylabel('Stop Word')\n",
    "plt.show()\n"
   ]
  },
  {
   "cell_type": "code",
   "execution_count": null,
   "id": "9da64b36",
   "metadata": {},
   "outputs": [],
   "source": []
  }
 ],
 "metadata": {
  "kernelspec": {
   "display_name": "Python 3",
   "language": "python",
   "name": "python3"
  },
  "language_info": {
   "codemirror_mode": {
    "name": "ipython",
    "version": 3
   },
   "file_extension": ".py",
   "mimetype": "text/x-python",
   "name": "python",
   "nbconvert_exporter": "python",
   "pygments_lexer": "ipython3",
   "version": "3.12.10"
  }
 },
 "nbformat": 4,
 "nbformat_minor": 5
}
